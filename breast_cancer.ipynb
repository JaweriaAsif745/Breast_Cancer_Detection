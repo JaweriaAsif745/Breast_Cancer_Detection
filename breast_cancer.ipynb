{
 "cells": [
  {
   "cell_type": "code",
   "execution_count": 116,
   "id": "23fd38f2",
   "metadata": {},
   "outputs": [],
   "source": [
    "import pandas as pd\n",
    "import numpy as np\n",
    "from sklearn.preprocessing import LabelEncoder\n",
    "from sklearn.model_selection import train_test_split\n",
    "from sklearn.preprocessing import StandardScaler\n",
    "from sklearn.linear_model import LogisticRegression\n",
    "from sklearn.metrics import accuracy_score"
   ]
  },
  {
   "cell_type": "code",
   "execution_count": 117,
   "id": "557c8647",
   "metadata": {},
   "outputs": [],
   "source": [
    "breast = pd.read_csv(\"breast_data.csv\")"
   ]
  },
  {
   "cell_type": "code",
   "execution_count": 118,
   "id": "19631a10",
   "metadata": {},
   "outputs": [
    {
     "data": {
      "text/html": [
       "<div>\n",
       "<style scoped>\n",
       "    .dataframe tbody tr th:only-of-type {\n",
       "        vertical-align: middle;\n",
       "    }\n",
       "\n",
       "    .dataframe tbody tr th {\n",
       "        vertical-align: top;\n",
       "    }\n",
       "\n",
       "    .dataframe thead th {\n",
       "        text-align: right;\n",
       "    }\n",
       "</style>\n",
       "<table border=\"1\" class=\"dataframe\">\n",
       "  <thead>\n",
       "    <tr style=\"text-align: right;\">\n",
       "      <th></th>\n",
       "      <th>id</th>\n",
       "      <th>diagnosis</th>\n",
       "      <th>radius_mean</th>\n",
       "      <th>texture_mean</th>\n",
       "      <th>perimeter_mean</th>\n",
       "      <th>area_mean</th>\n",
       "      <th>smoothness_mean</th>\n",
       "      <th>compactness_mean</th>\n",
       "      <th>concavity_mean</th>\n",
       "      <th>concave points_mean</th>\n",
       "      <th>...</th>\n",
       "      <th>texture_worst</th>\n",
       "      <th>perimeter_worst</th>\n",
       "      <th>area_worst</th>\n",
       "      <th>smoothness_worst</th>\n",
       "      <th>compactness_worst</th>\n",
       "      <th>concavity_worst</th>\n",
       "      <th>concave points_worst</th>\n",
       "      <th>symmetry_worst</th>\n",
       "      <th>fractal_dimension_worst</th>\n",
       "      <th>Unnamed: 32</th>\n",
       "    </tr>\n",
       "  </thead>\n",
       "  <tbody>\n",
       "    <tr>\n",
       "      <th>0</th>\n",
       "      <td>842302</td>\n",
       "      <td>M</td>\n",
       "      <td>17.99</td>\n",
       "      <td>10.38</td>\n",
       "      <td>122.8</td>\n",
       "      <td>1001.0</td>\n",
       "      <td>0.11840</td>\n",
       "      <td>0.27760</td>\n",
       "      <td>0.3001</td>\n",
       "      <td>0.14710</td>\n",
       "      <td>...</td>\n",
       "      <td>17.33</td>\n",
       "      <td>184.6</td>\n",
       "      <td>2019.0</td>\n",
       "      <td>0.1622</td>\n",
       "      <td>0.6656</td>\n",
       "      <td>0.7119</td>\n",
       "      <td>0.2654</td>\n",
       "      <td>0.4601</td>\n",
       "      <td>0.11890</td>\n",
       "      <td>NaN</td>\n",
       "    </tr>\n",
       "    <tr>\n",
       "      <th>1</th>\n",
       "      <td>842517</td>\n",
       "      <td>M</td>\n",
       "      <td>20.57</td>\n",
       "      <td>17.77</td>\n",
       "      <td>132.9</td>\n",
       "      <td>1326.0</td>\n",
       "      <td>0.08474</td>\n",
       "      <td>0.07864</td>\n",
       "      <td>0.0869</td>\n",
       "      <td>0.07017</td>\n",
       "      <td>...</td>\n",
       "      <td>23.41</td>\n",
       "      <td>158.8</td>\n",
       "      <td>1956.0</td>\n",
       "      <td>0.1238</td>\n",
       "      <td>0.1866</td>\n",
       "      <td>0.2416</td>\n",
       "      <td>0.1860</td>\n",
       "      <td>0.2750</td>\n",
       "      <td>0.08902</td>\n",
       "      <td>NaN</td>\n",
       "    </tr>\n",
       "    <tr>\n",
       "      <th>2</th>\n",
       "      <td>84300903</td>\n",
       "      <td>M</td>\n",
       "      <td>19.69</td>\n",
       "      <td>21.25</td>\n",
       "      <td>130.0</td>\n",
       "      <td>1203.0</td>\n",
       "      <td>0.10960</td>\n",
       "      <td>0.15990</td>\n",
       "      <td>0.1974</td>\n",
       "      <td>0.12790</td>\n",
       "      <td>...</td>\n",
       "      <td>25.53</td>\n",
       "      <td>152.5</td>\n",
       "      <td>1709.0</td>\n",
       "      <td>0.1444</td>\n",
       "      <td>0.4245</td>\n",
       "      <td>0.4504</td>\n",
       "      <td>0.2430</td>\n",
       "      <td>0.3613</td>\n",
       "      <td>0.08758</td>\n",
       "      <td>NaN</td>\n",
       "    </tr>\n",
       "  </tbody>\n",
       "</table>\n",
       "<p>3 rows × 33 columns</p>\n",
       "</div>"
      ],
      "text/plain": [
       "         id diagnosis  radius_mean  texture_mean  perimeter_mean  area_mean  \\\n",
       "0    842302         M        17.99         10.38           122.8     1001.0   \n",
       "1    842517         M        20.57         17.77           132.9     1326.0   \n",
       "2  84300903         M        19.69         21.25           130.0     1203.0   \n",
       "\n",
       "   smoothness_mean  compactness_mean  concavity_mean  concave points_mean  \\\n",
       "0          0.11840           0.27760          0.3001              0.14710   \n",
       "1          0.08474           0.07864          0.0869              0.07017   \n",
       "2          0.10960           0.15990          0.1974              0.12790   \n",
       "\n",
       "   ...  texture_worst  perimeter_worst  area_worst  smoothness_worst  \\\n",
       "0  ...          17.33            184.6      2019.0            0.1622   \n",
       "1  ...          23.41            158.8      1956.0            0.1238   \n",
       "2  ...          25.53            152.5      1709.0            0.1444   \n",
       "\n",
       "   compactness_worst  concavity_worst  concave points_worst  symmetry_worst  \\\n",
       "0             0.6656           0.7119                0.2654          0.4601   \n",
       "1             0.1866           0.2416                0.1860          0.2750   \n",
       "2             0.4245           0.4504                0.2430          0.3613   \n",
       "\n",
       "   fractal_dimension_worst  Unnamed: 32  \n",
       "0                  0.11890          NaN  \n",
       "1                  0.08902          NaN  \n",
       "2                  0.08758          NaN  \n",
       "\n",
       "[3 rows x 33 columns]"
      ]
     },
     "execution_count": 118,
     "metadata": {},
     "output_type": "execute_result"
    }
   ],
   "source": [
    "breast.head(3)"
   ]
  },
  {
   "cell_type": "code",
   "execution_count": 162,
   "id": "0ee6da8f",
   "metadata": {},
   "outputs": [],
   "source": [
    "sam= breast.sample(6).iloc[2].values"
   ]
  },
  {
   "cell_type": "code",
   "execution_count": 163,
   "id": "138414b0",
   "metadata": {
    "scrolled": true
   },
   "outputs": [
    {
     "data": {
      "text/plain": [
       "array([8610404, 'M', 16.07, 19.65, 104.1, 817.7, 0.09168, 0.08424,\n",
       "       0.09769, 0.06638, 0.1798, 0.05391, 0.7474, 1.016, 5.029, 79.25,\n",
       "       0.01082, 0.02203, 0.035, 0.01809, 0.0155, 0.001948, 19.77, 24.56,\n",
       "       128.8, 1223.0, 0.15, 0.2045, 0.2829, 0.152, 0.265, 0.06387, nan],\n",
       "      dtype=object)"
      ]
     },
     "execution_count": 163,
     "metadata": {},
     "output_type": "execute_result"
    }
   ],
   "source": [
    "sam"
   ]
  },
  {
   "cell_type": "code",
   "execution_count": 88,
   "id": "4cb20dc3",
   "metadata": {},
   "outputs": [],
   "source": [
    "import pandas as pd\n",
    "import numpy as np\n",
    "from sklearn.preprocessing import LabelEncoder\n",
    "from sklearn.model_selection import train_test_split\n",
    "from sklearn.preprocessing import StandardScaler\n",
    "from sklearn.linear_model import LogisticRegression\n",
    "from sklearn.metrics import accuracy_score"
   ]
  },
  {
   "cell_type": "code",
   "execution_count": 89,
   "id": "b880ef18",
   "metadata": {},
   "outputs": [],
   "source": [
    "breast = pd.read_csv(\"breast_data.csv\")"
   ]
  },
  {
   "cell_type": "code",
   "execution_count": 90,
   "id": "2d0b15f4",
   "metadata": {},
   "outputs": [
    {
     "data": {
      "text/html": [
       "<div>\n",
       "<style scoped>\n",
       "    .dataframe tbody tr th:only-of-type {\n",
       "        vertical-align: middle;\n",
       "    }\n",
       "\n",
       "    .dataframe tbody tr th {\n",
       "        vertical-align: top;\n",
       "    }\n",
       "\n",
       "    .dataframe thead th {\n",
       "        text-align: right;\n",
       "    }\n",
       "</style>\n",
       "<table border=\"1\" class=\"dataframe\">\n",
       "  <thead>\n",
       "    <tr style=\"text-align: right;\">\n",
       "      <th></th>\n",
       "      <th>id</th>\n",
       "      <th>diagnosis</th>\n",
       "      <th>radius_mean</th>\n",
       "      <th>texture_mean</th>\n",
       "      <th>perimeter_mean</th>\n",
       "      <th>area_mean</th>\n",
       "      <th>smoothness_mean</th>\n",
       "      <th>compactness_mean</th>\n",
       "      <th>concavity_mean</th>\n",
       "      <th>concave points_mean</th>\n",
       "      <th>...</th>\n",
       "      <th>texture_worst</th>\n",
       "      <th>perimeter_worst</th>\n",
       "      <th>area_worst</th>\n",
       "      <th>smoothness_worst</th>\n",
       "      <th>compactness_worst</th>\n",
       "      <th>concavity_worst</th>\n",
       "      <th>concave points_worst</th>\n",
       "      <th>symmetry_worst</th>\n",
       "      <th>fractal_dimension_worst</th>\n",
       "      <th>Unnamed: 32</th>\n",
       "    </tr>\n",
       "  </thead>\n",
       "  <tbody>\n",
       "    <tr>\n",
       "      <th>0</th>\n",
       "      <td>842302</td>\n",
       "      <td>M</td>\n",
       "      <td>17.99</td>\n",
       "      <td>10.38</td>\n",
       "      <td>122.8</td>\n",
       "      <td>1001.0</td>\n",
       "      <td>0.11840</td>\n",
       "      <td>0.27760</td>\n",
       "      <td>0.3001</td>\n",
       "      <td>0.14710</td>\n",
       "      <td>...</td>\n",
       "      <td>17.33</td>\n",
       "      <td>184.6</td>\n",
       "      <td>2019.0</td>\n",
       "      <td>0.1622</td>\n",
       "      <td>0.6656</td>\n",
       "      <td>0.7119</td>\n",
       "      <td>0.2654</td>\n",
       "      <td>0.4601</td>\n",
       "      <td>0.11890</td>\n",
       "      <td>NaN</td>\n",
       "    </tr>\n",
       "    <tr>\n",
       "      <th>1</th>\n",
       "      <td>842517</td>\n",
       "      <td>M</td>\n",
       "      <td>20.57</td>\n",
       "      <td>17.77</td>\n",
       "      <td>132.9</td>\n",
       "      <td>1326.0</td>\n",
       "      <td>0.08474</td>\n",
       "      <td>0.07864</td>\n",
       "      <td>0.0869</td>\n",
       "      <td>0.07017</td>\n",
       "      <td>...</td>\n",
       "      <td>23.41</td>\n",
       "      <td>158.8</td>\n",
       "      <td>1956.0</td>\n",
       "      <td>0.1238</td>\n",
       "      <td>0.1866</td>\n",
       "      <td>0.2416</td>\n",
       "      <td>0.1860</td>\n",
       "      <td>0.2750</td>\n",
       "      <td>0.08902</td>\n",
       "      <td>NaN</td>\n",
       "    </tr>\n",
       "    <tr>\n",
       "      <th>2</th>\n",
       "      <td>84300903</td>\n",
       "      <td>M</td>\n",
       "      <td>19.69</td>\n",
       "      <td>21.25</td>\n",
       "      <td>130.0</td>\n",
       "      <td>1203.0</td>\n",
       "      <td>0.10960</td>\n",
       "      <td>0.15990</td>\n",
       "      <td>0.1974</td>\n",
       "      <td>0.12790</td>\n",
       "      <td>...</td>\n",
       "      <td>25.53</td>\n",
       "      <td>152.5</td>\n",
       "      <td>1709.0</td>\n",
       "      <td>0.1444</td>\n",
       "      <td>0.4245</td>\n",
       "      <td>0.4504</td>\n",
       "      <td>0.2430</td>\n",
       "      <td>0.3613</td>\n",
       "      <td>0.08758</td>\n",
       "      <td>NaN</td>\n",
       "    </tr>\n",
       "  </tbody>\n",
       "</table>\n",
       "<p>3 rows × 33 columns</p>\n",
       "</div>"
      ],
      "text/plain": [
       "         id diagnosis  radius_mean  texture_mean  perimeter_mean  area_mean  \\\n",
       "0    842302         M        17.99         10.38           122.8     1001.0   \n",
       "1    842517         M        20.57         17.77           132.9     1326.0   \n",
       "2  84300903         M        19.69         21.25           130.0     1203.0   \n",
       "\n",
       "   smoothness_mean  compactness_mean  concavity_mean  concave points_mean  \\\n",
       "0          0.11840           0.27760          0.3001              0.14710   \n",
       "1          0.08474           0.07864          0.0869              0.07017   \n",
       "2          0.10960           0.15990          0.1974              0.12790   \n",
       "\n",
       "   ...  texture_worst  perimeter_worst  area_worst  smoothness_worst  \\\n",
       "0  ...          17.33            184.6      2019.0            0.1622   \n",
       "1  ...          23.41            158.8      1956.0            0.1238   \n",
       "2  ...          25.53            152.5      1709.0            0.1444   \n",
       "\n",
       "   compactness_worst  concavity_worst  concave points_worst  symmetry_worst  \\\n",
       "0             0.6656           0.7119                0.2654          0.4601   \n",
       "1             0.1866           0.2416                0.1860          0.2750   \n",
       "2             0.4245           0.4504                0.2430          0.3613   \n",
       "\n",
       "   fractal_dimension_worst  Unnamed: 32  \n",
       "0                  0.11890          NaN  \n",
       "1                  0.08902          NaN  \n",
       "2                  0.08758          NaN  \n",
       "\n",
       "[3 rows x 33 columns]"
      ]
     },
     "execution_count": 90,
     "metadata": {},
     "output_type": "execute_result"
    }
   ],
   "source": [
    "breast.head(3)"
   ]
  },
  {
   "cell_type": "code",
   "execution_count": 95,
   "id": "3f59c85b",
   "metadata": {},
   "outputs": [],
   "source": [
    "sam= breast.sample(6).iloc[4].values"
   ]
  },
  {
   "cell_type": "code",
   "execution_count": 97,
   "id": "ef5d3e2a",
   "metadata": {},
   "outputs": [
    {
     "data": {
      "text/plain": [
       "array([925311, 'B', 11.2, 29.37, 70.67, 386.0, 0.07449, 0.03558, 0.0, 0.0,\n",
       "       0.106, 0.05502, 0.3141, 3.896, 2.041, 22.81, 0.007594, 0.008878,\n",
       "       0.0, 0.0, 0.01989, 0.001773, 11.92, 38.3, 75.19, 439.6, 0.09267,\n",
       "       0.05494, 0.0, 0.0, 0.1566, 0.05905, nan], dtype=object)"
      ]
     },
     "execution_count": 97,
     "metadata": {},
     "output_type": "execute_result"
    }
   ],
   "source": [
    "sam"
   ]
  },
  {
   "cell_type": "code",
   "execution_count": 98,
   "id": "714195d4",
   "metadata": {},
   "outputs": [
    {
     "data": {
      "text/plain": [
       "(569, 33)"
      ]
     },
     "execution_count": 98,
     "metadata": {},
     "output_type": "execute_result"
    }
   ],
   "source": [
    "breast.shape"
   ]
  },
  {
   "cell_type": "code",
   "execution_count": 99,
   "id": "408af9aa",
   "metadata": {},
   "outputs": [
    {
     "name": "stdout",
     "output_type": "stream",
     "text": [
      "<class 'pandas.core.frame.DataFrame'>\n",
      "RangeIndex: 569 entries, 0 to 568\n",
      "Data columns (total 33 columns):\n",
      " #   Column                   Non-Null Count  Dtype  \n",
      "---  ------                   --------------  -----  \n",
      " 0   id                       569 non-null    int64  \n",
      " 1   diagnosis                569 non-null    object \n",
      " 2   radius_mean              569 non-null    float64\n",
      " 3   texture_mean             569 non-null    float64\n",
      " 4   perimeter_mean           569 non-null    float64\n",
      " 5   area_mean                569 non-null    float64\n",
      " 6   smoothness_mean          569 non-null    float64\n",
      " 7   compactness_mean         569 non-null    float64\n",
      " 8   concavity_mean           569 non-null    float64\n",
      " 9   concave points_mean      569 non-null    float64\n",
      " 10  symmetry_mean            569 non-null    float64\n",
      " 11  fractal_dimension_mean   569 non-null    float64\n",
      " 12  radius_se                569 non-null    float64\n",
      " 13  texture_se               569 non-null    float64\n",
      " 14  perimeter_se             569 non-null    float64\n",
      " 15  area_se                  569 non-null    float64\n",
      " 16  smoothness_se            569 non-null    float64\n",
      " 17  compactness_se           569 non-null    float64\n",
      " 18  concavity_se             569 non-null    float64\n",
      " 19  concave points_se        569 non-null    float64\n",
      " 20  symmetry_se              569 non-null    float64\n",
      " 21  fractal_dimension_se     569 non-null    float64\n",
      " 22  radius_worst             569 non-null    float64\n",
      " 23  texture_worst            569 non-null    float64\n",
      " 24  perimeter_worst          569 non-null    float64\n",
      " 25  area_worst               569 non-null    float64\n",
      " 26  smoothness_worst         569 non-null    float64\n",
      " 27  compactness_worst        569 non-null    float64\n",
      " 28  concavity_worst          569 non-null    float64\n",
      " 29  concave points_worst     569 non-null    float64\n",
      " 30  symmetry_worst           569 non-null    float64\n",
      " 31  fractal_dimension_worst  569 non-null    float64\n",
      " 32  Unnamed: 32              0 non-null      float64\n",
      "dtypes: float64(31), int64(1), object(1)\n",
      "memory usage: 146.8+ KB\n"
     ]
    }
   ],
   "source": [
    "breast.info()"
   ]
  },
  {
   "cell_type": "code",
   "execution_count": 100,
   "id": "70a3a259",
   "metadata": {},
   "outputs": [
    {
     "data": {
      "text/plain": [
       "id                           0\n",
       "diagnosis                    0\n",
       "radius_mean                  0\n",
       "texture_mean                 0\n",
       "perimeter_mean               0\n",
       "area_mean                    0\n",
       "smoothness_mean              0\n",
       "compactness_mean             0\n",
       "concavity_mean               0\n",
       "concave points_mean          0\n",
       "symmetry_mean                0\n",
       "fractal_dimension_mean       0\n",
       "radius_se                    0\n",
       "texture_se                   0\n",
       "perimeter_se                 0\n",
       "area_se                      0\n",
       "smoothness_se                0\n",
       "compactness_se               0\n",
       "concavity_se                 0\n",
       "concave points_se            0\n",
       "symmetry_se                  0\n",
       "fractal_dimension_se         0\n",
       "radius_worst                 0\n",
       "texture_worst                0\n",
       "perimeter_worst              0\n",
       "area_worst                   0\n",
       "smoothness_worst             0\n",
       "compactness_worst            0\n",
       "concavity_worst              0\n",
       "concave points_worst         0\n",
       "symmetry_worst               0\n",
       "fractal_dimension_worst      0\n",
       "Unnamed: 32                569\n",
       "dtype: int64"
      ]
     },
     "execution_count": 100,
     "metadata": {},
     "output_type": "execute_result"
    }
   ],
   "source": [
    "breast.isnull().sum()"
   ]
  },
  {
   "cell_type": "code",
   "execution_count": 101,
   "id": "36b2fa6e",
   "metadata": {},
   "outputs": [
    {
     "data": {
      "text/plain": [
       "0"
      ]
     },
     "execution_count": 101,
     "metadata": {},
     "output_type": "execute_result"
    }
   ],
   "source": [
    "breast.duplicated().sum()"
   ]
  },
  {
   "cell_type": "code",
   "execution_count": 102,
   "id": "f916574c",
   "metadata": {},
   "outputs": [
    {
     "data": {
      "text/html": [
       "<div>\n",
       "<style scoped>\n",
       "    .dataframe tbody tr th:only-of-type {\n",
       "        vertical-align: middle;\n",
       "    }\n",
       "\n",
       "    .dataframe tbody tr th {\n",
       "        vertical-align: top;\n",
       "    }\n",
       "\n",
       "    .dataframe thead th {\n",
       "        text-align: right;\n",
       "    }\n",
       "</style>\n",
       "<table border=\"1\" class=\"dataframe\">\n",
       "  <thead>\n",
       "    <tr style=\"text-align: right;\">\n",
       "      <th></th>\n",
       "      <th>id</th>\n",
       "      <th>radius_mean</th>\n",
       "      <th>texture_mean</th>\n",
       "      <th>perimeter_mean</th>\n",
       "      <th>area_mean</th>\n",
       "      <th>smoothness_mean</th>\n",
       "      <th>compactness_mean</th>\n",
       "      <th>concavity_mean</th>\n",
       "      <th>concave points_mean</th>\n",
       "      <th>symmetry_mean</th>\n",
       "      <th>...</th>\n",
       "      <th>texture_worst</th>\n",
       "      <th>perimeter_worst</th>\n",
       "      <th>area_worst</th>\n",
       "      <th>smoothness_worst</th>\n",
       "      <th>compactness_worst</th>\n",
       "      <th>concavity_worst</th>\n",
       "      <th>concave points_worst</th>\n",
       "      <th>symmetry_worst</th>\n",
       "      <th>fractal_dimension_worst</th>\n",
       "      <th>Unnamed: 32</th>\n",
       "    </tr>\n",
       "  </thead>\n",
       "  <tbody>\n",
       "    <tr>\n",
       "      <th>count</th>\n",
       "      <td>5.690000e+02</td>\n",
       "      <td>569.000000</td>\n",
       "      <td>569.000000</td>\n",
       "      <td>569.000000</td>\n",
       "      <td>569.000000</td>\n",
       "      <td>569.000000</td>\n",
       "      <td>569.000000</td>\n",
       "      <td>569.000000</td>\n",
       "      <td>569.000000</td>\n",
       "      <td>569.000000</td>\n",
       "      <td>...</td>\n",
       "      <td>569.000000</td>\n",
       "      <td>569.000000</td>\n",
       "      <td>569.000000</td>\n",
       "      <td>569.000000</td>\n",
       "      <td>569.000000</td>\n",
       "      <td>569.000000</td>\n",
       "      <td>569.000000</td>\n",
       "      <td>569.000000</td>\n",
       "      <td>569.000000</td>\n",
       "      <td>0.0</td>\n",
       "    </tr>\n",
       "    <tr>\n",
       "      <th>mean</th>\n",
       "      <td>3.037183e+07</td>\n",
       "      <td>14.127292</td>\n",
       "      <td>19.289649</td>\n",
       "      <td>91.969033</td>\n",
       "      <td>654.889104</td>\n",
       "      <td>0.096360</td>\n",
       "      <td>0.104341</td>\n",
       "      <td>0.088799</td>\n",
       "      <td>0.048919</td>\n",
       "      <td>0.181162</td>\n",
       "      <td>...</td>\n",
       "      <td>25.677223</td>\n",
       "      <td>107.261213</td>\n",
       "      <td>880.583128</td>\n",
       "      <td>0.132369</td>\n",
       "      <td>0.254265</td>\n",
       "      <td>0.272188</td>\n",
       "      <td>0.114606</td>\n",
       "      <td>0.290076</td>\n",
       "      <td>0.083946</td>\n",
       "      <td>NaN</td>\n",
       "    </tr>\n",
       "    <tr>\n",
       "      <th>std</th>\n",
       "      <td>1.250206e+08</td>\n",
       "      <td>3.524049</td>\n",
       "      <td>4.301036</td>\n",
       "      <td>24.298981</td>\n",
       "      <td>351.914129</td>\n",
       "      <td>0.014064</td>\n",
       "      <td>0.052813</td>\n",
       "      <td>0.079720</td>\n",
       "      <td>0.038803</td>\n",
       "      <td>0.027414</td>\n",
       "      <td>...</td>\n",
       "      <td>6.146258</td>\n",
       "      <td>33.602542</td>\n",
       "      <td>569.356993</td>\n",
       "      <td>0.022832</td>\n",
       "      <td>0.157336</td>\n",
       "      <td>0.208624</td>\n",
       "      <td>0.065732</td>\n",
       "      <td>0.061867</td>\n",
       "      <td>0.018061</td>\n",
       "      <td>NaN</td>\n",
       "    </tr>\n",
       "    <tr>\n",
       "      <th>min</th>\n",
       "      <td>8.670000e+03</td>\n",
       "      <td>6.981000</td>\n",
       "      <td>9.710000</td>\n",
       "      <td>43.790000</td>\n",
       "      <td>143.500000</td>\n",
       "      <td>0.052630</td>\n",
       "      <td>0.019380</td>\n",
       "      <td>0.000000</td>\n",
       "      <td>0.000000</td>\n",
       "      <td>0.106000</td>\n",
       "      <td>...</td>\n",
       "      <td>12.020000</td>\n",
       "      <td>50.410000</td>\n",
       "      <td>185.200000</td>\n",
       "      <td>0.071170</td>\n",
       "      <td>0.027290</td>\n",
       "      <td>0.000000</td>\n",
       "      <td>0.000000</td>\n",
       "      <td>0.156500</td>\n",
       "      <td>0.055040</td>\n",
       "      <td>NaN</td>\n",
       "    </tr>\n",
       "    <tr>\n",
       "      <th>25%</th>\n",
       "      <td>8.692180e+05</td>\n",
       "      <td>11.700000</td>\n",
       "      <td>16.170000</td>\n",
       "      <td>75.170000</td>\n",
       "      <td>420.300000</td>\n",
       "      <td>0.086370</td>\n",
       "      <td>0.064920</td>\n",
       "      <td>0.029560</td>\n",
       "      <td>0.020310</td>\n",
       "      <td>0.161900</td>\n",
       "      <td>...</td>\n",
       "      <td>21.080000</td>\n",
       "      <td>84.110000</td>\n",
       "      <td>515.300000</td>\n",
       "      <td>0.116600</td>\n",
       "      <td>0.147200</td>\n",
       "      <td>0.114500</td>\n",
       "      <td>0.064930</td>\n",
       "      <td>0.250400</td>\n",
       "      <td>0.071460</td>\n",
       "      <td>NaN</td>\n",
       "    </tr>\n",
       "    <tr>\n",
       "      <th>50%</th>\n",
       "      <td>9.060240e+05</td>\n",
       "      <td>13.370000</td>\n",
       "      <td>18.840000</td>\n",
       "      <td>86.240000</td>\n",
       "      <td>551.100000</td>\n",
       "      <td>0.095870</td>\n",
       "      <td>0.092630</td>\n",
       "      <td>0.061540</td>\n",
       "      <td>0.033500</td>\n",
       "      <td>0.179200</td>\n",
       "      <td>...</td>\n",
       "      <td>25.410000</td>\n",
       "      <td>97.660000</td>\n",
       "      <td>686.500000</td>\n",
       "      <td>0.131300</td>\n",
       "      <td>0.211900</td>\n",
       "      <td>0.226700</td>\n",
       "      <td>0.099930</td>\n",
       "      <td>0.282200</td>\n",
       "      <td>0.080040</td>\n",
       "      <td>NaN</td>\n",
       "    </tr>\n",
       "    <tr>\n",
       "      <th>75%</th>\n",
       "      <td>8.813129e+06</td>\n",
       "      <td>15.780000</td>\n",
       "      <td>21.800000</td>\n",
       "      <td>104.100000</td>\n",
       "      <td>782.700000</td>\n",
       "      <td>0.105300</td>\n",
       "      <td>0.130400</td>\n",
       "      <td>0.130700</td>\n",
       "      <td>0.074000</td>\n",
       "      <td>0.195700</td>\n",
       "      <td>...</td>\n",
       "      <td>29.720000</td>\n",
       "      <td>125.400000</td>\n",
       "      <td>1084.000000</td>\n",
       "      <td>0.146000</td>\n",
       "      <td>0.339100</td>\n",
       "      <td>0.382900</td>\n",
       "      <td>0.161400</td>\n",
       "      <td>0.317900</td>\n",
       "      <td>0.092080</td>\n",
       "      <td>NaN</td>\n",
       "    </tr>\n",
       "    <tr>\n",
       "      <th>max</th>\n",
       "      <td>9.113205e+08</td>\n",
       "      <td>28.110000</td>\n",
       "      <td>39.280000</td>\n",
       "      <td>188.500000</td>\n",
       "      <td>2501.000000</td>\n",
       "      <td>0.163400</td>\n",
       "      <td>0.345400</td>\n",
       "      <td>0.426800</td>\n",
       "      <td>0.201200</td>\n",
       "      <td>0.304000</td>\n",
       "      <td>...</td>\n",
       "      <td>49.540000</td>\n",
       "      <td>251.200000</td>\n",
       "      <td>4254.000000</td>\n",
       "      <td>0.222600</td>\n",
       "      <td>1.058000</td>\n",
       "      <td>1.252000</td>\n",
       "      <td>0.291000</td>\n",
       "      <td>0.663800</td>\n",
       "      <td>0.207500</td>\n",
       "      <td>NaN</td>\n",
       "    </tr>\n",
       "  </tbody>\n",
       "</table>\n",
       "<p>8 rows × 32 columns</p>\n",
       "</div>"
      ],
      "text/plain": [
       "                 id  radius_mean  texture_mean  perimeter_mean    area_mean  \\\n",
       "count  5.690000e+02   569.000000    569.000000      569.000000   569.000000   \n",
       "mean   3.037183e+07    14.127292     19.289649       91.969033   654.889104   \n",
       "std    1.250206e+08     3.524049      4.301036       24.298981   351.914129   \n",
       "min    8.670000e+03     6.981000      9.710000       43.790000   143.500000   \n",
       "25%    8.692180e+05    11.700000     16.170000       75.170000   420.300000   \n",
       "50%    9.060240e+05    13.370000     18.840000       86.240000   551.100000   \n",
       "75%    8.813129e+06    15.780000     21.800000      104.100000   782.700000   \n",
       "max    9.113205e+08    28.110000     39.280000      188.500000  2501.000000   \n",
       "\n",
       "       smoothness_mean  compactness_mean  concavity_mean  concave points_mean  \\\n",
       "count       569.000000        569.000000      569.000000           569.000000   \n",
       "mean          0.096360          0.104341        0.088799             0.048919   \n",
       "std           0.014064          0.052813        0.079720             0.038803   \n",
       "min           0.052630          0.019380        0.000000             0.000000   \n",
       "25%           0.086370          0.064920        0.029560             0.020310   \n",
       "50%           0.095870          0.092630        0.061540             0.033500   \n",
       "75%           0.105300          0.130400        0.130700             0.074000   \n",
       "max           0.163400          0.345400        0.426800             0.201200   \n",
       "\n",
       "       symmetry_mean  ...  texture_worst  perimeter_worst   area_worst  \\\n",
       "count     569.000000  ...     569.000000       569.000000   569.000000   \n",
       "mean        0.181162  ...      25.677223       107.261213   880.583128   \n",
       "std         0.027414  ...       6.146258        33.602542   569.356993   \n",
       "min         0.106000  ...      12.020000        50.410000   185.200000   \n",
       "25%         0.161900  ...      21.080000        84.110000   515.300000   \n",
       "50%         0.179200  ...      25.410000        97.660000   686.500000   \n",
       "75%         0.195700  ...      29.720000       125.400000  1084.000000   \n",
       "max         0.304000  ...      49.540000       251.200000  4254.000000   \n",
       "\n",
       "       smoothness_worst  compactness_worst  concavity_worst  \\\n",
       "count        569.000000         569.000000       569.000000   \n",
       "mean           0.132369           0.254265         0.272188   \n",
       "std            0.022832           0.157336         0.208624   \n",
       "min            0.071170           0.027290         0.000000   \n",
       "25%            0.116600           0.147200         0.114500   \n",
       "50%            0.131300           0.211900         0.226700   \n",
       "75%            0.146000           0.339100         0.382900   \n",
       "max            0.222600           1.058000         1.252000   \n",
       "\n",
       "       concave points_worst  symmetry_worst  fractal_dimension_worst  \\\n",
       "count            569.000000      569.000000               569.000000   \n",
       "mean               0.114606        0.290076                 0.083946   \n",
       "std                0.065732        0.061867                 0.018061   \n",
       "min                0.000000        0.156500                 0.055040   \n",
       "25%                0.064930        0.250400                 0.071460   \n",
       "50%                0.099930        0.282200                 0.080040   \n",
       "75%                0.161400        0.317900                 0.092080   \n",
       "max                0.291000        0.663800                 0.207500   \n",
       "\n",
       "       Unnamed: 32  \n",
       "count          0.0  \n",
       "mean           NaN  \n",
       "std            NaN  \n",
       "min            NaN  \n",
       "25%            NaN  \n",
       "50%            NaN  \n",
       "75%            NaN  \n",
       "max            NaN  \n",
       "\n",
       "[8 rows x 32 columns]"
      ]
     },
     "execution_count": 102,
     "metadata": {},
     "output_type": "execute_result"
    }
   ],
   "source": [
    "breast.describe()"
   ]
  },
  {
   "cell_type": "code",
   "execution_count": 103,
   "id": "e4cfd720",
   "metadata": {},
   "outputs": [],
   "source": [
    "breast.drop(columns=['Unnamed: 32','id'], inplace=True)"
   ]
  },
  {
   "cell_type": "code",
   "execution_count": 104,
   "id": "c390db04",
   "metadata": {},
   "outputs": [
    {
     "data": {
      "text/plain": [
       "(569, 31)"
      ]
     },
     "execution_count": 104,
     "metadata": {},
     "output_type": "execute_result"
    }
   ],
   "source": [
    "breast.shape"
   ]
  },
  {
   "cell_type": "markdown",
   "id": "31d19cbe",
   "metadata": {},
   "source": [
    "# Encoding Target Col"
   ]
  },
  {
   "cell_type": "code",
   "execution_count": 105,
   "id": "ea417183",
   "metadata": {},
   "outputs": [
    {
     "data": {
      "text/plain": [
       "diagnosis\n",
       "B    357\n",
       "M    212\n",
       "Name: count, dtype: int64"
      ]
     },
     "execution_count": 105,
     "metadata": {},
     "output_type": "execute_result"
    }
   ],
   "source": [
    "breast['diagnosis'].value_counts()"
   ]
  },
  {
   "cell_type": "code",
   "execution_count": 106,
   "id": "f087e688",
   "metadata": {},
   "outputs": [],
   "source": [
    "le = LabelEncoder()"
   ]
  },
  {
   "cell_type": "code",
   "execution_count": 107,
   "id": "29d97609",
   "metadata": {},
   "outputs": [],
   "source": [
    "breast['diagnosis'] = le.fit_transform(breast['diagnosis'])"
   ]
  },
  {
   "cell_type": "code",
   "execution_count": 108,
   "id": "e1d7b418",
   "metadata": {},
   "outputs": [
    {
     "data": {
      "text/plain": [
       "array([1, 0])"
      ]
     },
     "execution_count": 108,
     "metadata": {},
     "output_type": "execute_result"
    }
   ],
   "source": [
    "breast['diagnosis'].unique()"
   ]
  },
  {
   "cell_type": "code",
   "execution_count": 109,
   "id": "b73e5539",
   "metadata": {},
   "outputs": [
    {
     "data": {
      "text/plain": [
       "diagnosis\n",
       "0    357\n",
       "1    212\n",
       "Name: count, dtype: int64"
      ]
     },
     "execution_count": 109,
     "metadata": {},
     "output_type": "execute_result"
    }
   ],
   "source": [
    "breast['diagnosis'].value_counts()"
   ]
  },
  {
   "cell_type": "code",
   "execution_count": 23,
   "id": "f9392488",
   "metadata": {},
   "outputs": [
    {
     "data": {
      "text/html": [
       "<div>\n",
       "<style scoped>\n",
       "    .dataframe tbody tr th:only-of-type {\n",
       "        vertical-align: middle;\n",
       "    }\n",
       "\n",
       "    .dataframe tbody tr th {\n",
       "        vertical-align: top;\n",
       "    }\n",
       "\n",
       "    .dataframe thead th {\n",
       "        text-align: right;\n",
       "    }\n",
       "</style>\n",
       "<table border=\"1\" class=\"dataframe\">\n",
       "  <thead>\n",
       "    <tr style=\"text-align: right;\">\n",
       "      <th></th>\n",
       "      <th>diagnosis</th>\n",
       "      <th>radius_mean</th>\n",
       "      <th>texture_mean</th>\n",
       "      <th>perimeter_mean</th>\n",
       "      <th>area_mean</th>\n",
       "      <th>smoothness_mean</th>\n",
       "      <th>compactness_mean</th>\n",
       "      <th>concavity_mean</th>\n",
       "      <th>concave points_mean</th>\n",
       "      <th>symmetry_mean</th>\n",
       "      <th>...</th>\n",
       "      <th>radius_worst</th>\n",
       "      <th>texture_worst</th>\n",
       "      <th>perimeter_worst</th>\n",
       "      <th>area_worst</th>\n",
       "      <th>smoothness_worst</th>\n",
       "      <th>compactness_worst</th>\n",
       "      <th>concavity_worst</th>\n",
       "      <th>concave points_worst</th>\n",
       "      <th>symmetry_worst</th>\n",
       "      <th>fractal_dimension_worst</th>\n",
       "    </tr>\n",
       "  </thead>\n",
       "  <tbody>\n",
       "    <tr>\n",
       "      <th>0</th>\n",
       "      <td>1</td>\n",
       "      <td>17.99</td>\n",
       "      <td>10.38</td>\n",
       "      <td>122.8</td>\n",
       "      <td>1001.0</td>\n",
       "      <td>0.1184</td>\n",
       "      <td>0.2776</td>\n",
       "      <td>0.3001</td>\n",
       "      <td>0.1471</td>\n",
       "      <td>0.2419</td>\n",
       "      <td>...</td>\n",
       "      <td>25.38</td>\n",
       "      <td>17.33</td>\n",
       "      <td>184.6</td>\n",
       "      <td>2019.0</td>\n",
       "      <td>0.1622</td>\n",
       "      <td>0.6656</td>\n",
       "      <td>0.7119</td>\n",
       "      <td>0.2654</td>\n",
       "      <td>0.4601</td>\n",
       "      <td>0.1189</td>\n",
       "    </tr>\n",
       "  </tbody>\n",
       "</table>\n",
       "<p>1 rows × 31 columns</p>\n",
       "</div>"
      ],
      "text/plain": [
       "   diagnosis  radius_mean  texture_mean  perimeter_mean  area_mean  \\\n",
       "0          1        17.99         10.38           122.8     1001.0   \n",
       "\n",
       "   smoothness_mean  compactness_mean  concavity_mean  concave points_mean  \\\n",
       "0           0.1184            0.2776          0.3001               0.1471   \n",
       "\n",
       "   symmetry_mean  ...  radius_worst  texture_worst  perimeter_worst  \\\n",
       "0         0.2419  ...         25.38          17.33            184.6   \n",
       "\n",
       "   area_worst  smoothness_worst  compactness_worst  concavity_worst  \\\n",
       "0      2019.0            0.1622             0.6656           0.7119   \n",
       "\n",
       "   concave points_worst  symmetry_worst  fractal_dimension_worst  \n",
       "0                0.2654          0.4601                   0.1189  \n",
       "\n",
       "[1 rows x 31 columns]"
      ]
     },
     "execution_count": 23,
     "metadata": {},
     "output_type": "execute_result"
    }
   ],
   "source": [
    "breast.head(1)"
   ]
  },
  {
   "cell_type": "markdown",
   "id": "3cad80c2",
   "metadata": {},
   "source": [
    "# Splitting Data"
   ]
  },
  {
   "cell_type": "code",
   "execution_count": 24,
   "id": "aa3c6fff",
   "metadata": {},
   "outputs": [],
   "source": [
    "x = breast.drop(columns='diagnosis')\n",
    "y = breast['diagnosis']"
   ]
  },
  {
   "cell_type": "code",
   "execution_count": 25,
   "id": "db3fd09b",
   "metadata": {},
   "outputs": [],
   "source": [
    "x_train, x_test, y_train, y_test = train_test_split(x,y, test_size=0.2, random_state=42)"
   ]
  },
  {
   "cell_type": "code",
   "execution_count": 26,
   "id": "b103936a",
   "metadata": {},
   "outputs": [
    {
     "data": {
      "text/plain": [
       "(455, 30)"
      ]
     },
     "execution_count": 26,
     "metadata": {},
     "output_type": "execute_result"
    }
   ],
   "source": [
    "x_train.shape"
   ]
  },
  {
   "cell_type": "code",
   "execution_count": 27,
   "id": "63f81b70",
   "metadata": {},
   "outputs": [
    {
     "data": {
      "text/plain": [
       "(114, 30)"
      ]
     },
     "execution_count": 27,
     "metadata": {},
     "output_type": "execute_result"
    }
   ],
   "source": [
    "x_test.shape"
   ]
  },
  {
   "cell_type": "markdown",
   "id": "fa18979a",
   "metadata": {},
   "source": [
    "# Scalling"
   ]
  },
  {
   "cell_type": "code",
   "execution_count": 28,
   "id": "901bd927",
   "metadata": {},
   "outputs": [],
   "source": [
    "sc = StandardScaler()"
   ]
  },
  {
   "cell_type": "code",
   "execution_count": 29,
   "id": "08d2c561",
   "metadata": {},
   "outputs": [],
   "source": [
    "x_train =sc.fit_transform(x_train)"
   ]
  },
  {
   "cell_type": "code",
   "execution_count": 30,
   "id": "85f4df64",
   "metadata": {},
   "outputs": [],
   "source": [
    "x_test = sc.transform(x_test)"
   ]
  },
  {
   "cell_type": "code",
   "execution_count": 31,
   "id": "07c18706",
   "metadata": {},
   "outputs": [
    {
     "data": {
      "text/plain": [
       "array([-1.44075296, -0.43531947, -1.36208497, -1.1391179 ,  0.78057331,\n",
       "        0.71892128,  2.82313451, -0.11914956,  1.09266219,  2.45817261,\n",
       "       -0.26380039, -0.01605246, -0.47041357, -0.47476088,  0.83836493,\n",
       "        3.25102691,  8.43893667,  3.39198733,  2.62116574,  2.06120787,\n",
       "       -1.23286131, -0.47630949, -1.24792009, -0.97396758,  0.72289445,\n",
       "        1.18673232,  4.67282796,  0.9320124 ,  2.09724217,  1.88645014])"
      ]
     },
     "execution_count": 31,
     "metadata": {},
     "output_type": "execute_result"
    }
   ],
   "source": [
    "x_train[0]"
   ]
  },
  {
   "cell_type": "markdown",
   "id": "202a4abc",
   "metadata": {},
   "source": [
    "# Model Building"
   ]
  },
  {
   "cell_type": "code",
   "execution_count": 32,
   "id": "18b42ff6",
   "metadata": {},
   "outputs": [],
   "source": [
    "lr = LogisticRegression()"
   ]
  },
  {
   "cell_type": "code",
   "execution_count": 33,
   "id": "e2a10ccc",
   "metadata": {},
   "outputs": [
    {
     "data": {
      "text/html": [
       "<style>#sk-container-id-1 {color: black;background-color: white;}#sk-container-id-1 pre{padding: 0;}#sk-container-id-1 div.sk-toggleable {background-color: white;}#sk-container-id-1 label.sk-toggleable__label {cursor: pointer;display: block;width: 100%;margin-bottom: 0;padding: 0.3em;box-sizing: border-box;text-align: center;}#sk-container-id-1 label.sk-toggleable__label-arrow:before {content: \"▸\";float: left;margin-right: 0.25em;color: #696969;}#sk-container-id-1 label.sk-toggleable__label-arrow:hover:before {color: black;}#sk-container-id-1 div.sk-estimator:hover label.sk-toggleable__label-arrow:before {color: black;}#sk-container-id-1 div.sk-toggleable__content {max-height: 0;max-width: 0;overflow: hidden;text-align: left;background-color: #f0f8ff;}#sk-container-id-1 div.sk-toggleable__content pre {margin: 0.2em;color: black;border-radius: 0.25em;background-color: #f0f8ff;}#sk-container-id-1 input.sk-toggleable__control:checked~div.sk-toggleable__content {max-height: 200px;max-width: 100%;overflow: auto;}#sk-container-id-1 input.sk-toggleable__control:checked~label.sk-toggleable__label-arrow:before {content: \"▾\";}#sk-container-id-1 div.sk-estimator input.sk-toggleable__control:checked~label.sk-toggleable__label {background-color: #d4ebff;}#sk-container-id-1 div.sk-label input.sk-toggleable__control:checked~label.sk-toggleable__label {background-color: #d4ebff;}#sk-container-id-1 input.sk-hidden--visually {border: 0;clip: rect(1px 1px 1px 1px);clip: rect(1px, 1px, 1px, 1px);height: 1px;margin: -1px;overflow: hidden;padding: 0;position: absolute;width: 1px;}#sk-container-id-1 div.sk-estimator {font-family: monospace;background-color: #f0f8ff;border: 1px dotted black;border-radius: 0.25em;box-sizing: border-box;margin-bottom: 0.5em;}#sk-container-id-1 div.sk-estimator:hover {background-color: #d4ebff;}#sk-container-id-1 div.sk-parallel-item::after {content: \"\";width: 100%;border-bottom: 1px solid gray;flex-grow: 1;}#sk-container-id-1 div.sk-label:hover label.sk-toggleable__label {background-color: #d4ebff;}#sk-container-id-1 div.sk-serial::before {content: \"\";position: absolute;border-left: 1px solid gray;box-sizing: border-box;top: 0;bottom: 0;left: 50%;z-index: 0;}#sk-container-id-1 div.sk-serial {display: flex;flex-direction: column;align-items: center;background-color: white;padding-right: 0.2em;padding-left: 0.2em;position: relative;}#sk-container-id-1 div.sk-item {position: relative;z-index: 1;}#sk-container-id-1 div.sk-parallel {display: flex;align-items: stretch;justify-content: center;background-color: white;position: relative;}#sk-container-id-1 div.sk-item::before, #sk-container-id-1 div.sk-parallel-item::before {content: \"\";position: absolute;border-left: 1px solid gray;box-sizing: border-box;top: 0;bottom: 0;left: 50%;z-index: -1;}#sk-container-id-1 div.sk-parallel-item {display: flex;flex-direction: column;z-index: 1;position: relative;background-color: white;}#sk-container-id-1 div.sk-parallel-item:first-child::after {align-self: flex-end;width: 50%;}#sk-container-id-1 div.sk-parallel-item:last-child::after {align-self: flex-start;width: 50%;}#sk-container-id-1 div.sk-parallel-item:only-child::after {width: 0;}#sk-container-id-1 div.sk-dashed-wrapped {border: 1px dashed gray;margin: 0 0.4em 0.5em 0.4em;box-sizing: border-box;padding-bottom: 0.4em;background-color: white;}#sk-container-id-1 div.sk-label label {font-family: monospace;font-weight: bold;display: inline-block;line-height: 1.2em;}#sk-container-id-1 div.sk-label-container {text-align: center;}#sk-container-id-1 div.sk-container {/* jupyter's `normalize.less` sets `[hidden] { display: none; }` but bootstrap.min.css set `[hidden] { display: none !important; }` so we also need the `!important` here to be able to override the default hidden behavior on the sphinx rendered scikit-learn.org. See: https://github.com/scikit-learn/scikit-learn/issues/21755 */display: inline-block !important;position: relative;}#sk-container-id-1 div.sk-text-repr-fallback {display: none;}</style><div id=\"sk-container-id-1\" class=\"sk-top-container\"><div class=\"sk-text-repr-fallback\"><pre>LogisticRegression()</pre><b>In a Jupyter environment, please rerun this cell to show the HTML representation or trust the notebook. <br />On GitHub, the HTML representation is unable to render, please try loading this page with nbviewer.org.</b></div><div class=\"sk-container\" hidden><div class=\"sk-item\"><div class=\"sk-estimator sk-toggleable\"><input class=\"sk-toggleable__control sk-hidden--visually\" id=\"sk-estimator-id-1\" type=\"checkbox\" checked><label for=\"sk-estimator-id-1\" class=\"sk-toggleable__label sk-toggleable__label-arrow\">LogisticRegression</label><div class=\"sk-toggleable__content\"><pre>LogisticRegression()</pre></div></div></div></div></div>"
      ],
      "text/plain": [
       "LogisticRegression()"
      ]
     },
     "execution_count": 33,
     "metadata": {},
     "output_type": "execute_result"
    }
   ],
   "source": [
    "lr.fit(x_train, y_train)"
   ]
  },
  {
   "cell_type": "code",
   "execution_count": 34,
   "id": "eab52e40",
   "metadata": {},
   "outputs": [],
   "source": [
    "y_pred = lr.predict(x_test)"
   ]
  },
  {
   "cell_type": "code",
   "execution_count": 35,
   "id": "fddbd36b",
   "metadata": {},
   "outputs": [
    {
     "data": {
      "text/plain": [
       "0.9736842105263158"
      ]
     },
     "execution_count": 35,
     "metadata": {},
     "output_type": "execute_result"
    }
   ],
   "source": [
    "accuracy_score(y_test, y_pred)"
   ]
  },
  {
   "cell_type": "code",
   "execution_count": 110,
   "id": "f6c4bad8",
   "metadata": {},
   "outputs": [
    {
     "name": "stdout",
     "output_type": "stream",
     "text": [
      "Confusion Matrix:\n",
      " [[70  1]\n",
      " [ 2 41]]\n",
      "Classification Report:\n",
      "               precision    recall  f1-score   support\n",
      "\n",
      "           0       0.97      0.99      0.98        71\n",
      "           1       0.98      0.95      0.96        43\n",
      "\n",
      "    accuracy                           0.97       114\n",
      "   macro avg       0.97      0.97      0.97       114\n",
      "weighted avg       0.97      0.97      0.97       114\n",
      "\n"
     ]
    }
   ],
   "source": [
    "from sklearn.metrics import classification_report, confusion_matrix\n",
    "\n",
    "# Model evaluation\n",
    "conf_matrix = confusion_matrix(y_test, y_pred)\n",
    "class_report = classification_report(y_test, y_pred)\n",
    "\n",
    "print(\"Confusion Matrix:\\n\", conf_matrix)\n",
    "print(\"Classification Report:\\n\", class_report)\n"
   ]
  },
  {
   "cell_type": "markdown",
   "id": "6ef782ec",
   "metadata": {},
   "source": [
    "# Prediction System"
   ]
  },
  {
   "cell_type": "code",
   "execution_count": 37,
   "id": "bbdff2e1",
   "metadata": {},
   "outputs": [
    {
     "name": "stdout",
     "output_type": "stream",
     "text": [
      "Cancrous\n"
     ]
    }
   ],
   "source": [
    "input_text = (2.13018192e-01, -5.90201273e-01,  2.78151024e-01,\n",
    "        7.93179680e-02,  1.47083851e+00,  1.16919292e+00,  1.00908719e+00,\n",
    "        1.07711474e+00,  1.26019637e+00,  6.83612567e-01,  8.69160837e-02,\n",
    "       -4.68975381e-01,  6.31952291e-02,  2.34972050e-02, -1.33445566e-03,\n",
    "       -2.93138093e-04, -8.45111045e-02,  1.29797207e-01, -5.57825655e-01,\n",
    "        2.28242912e-02,  5.35769651e-01,  3.02768997e-01,  5.99822963e-01,\n",
    "        3.84469578e-01,  2.44036784e+00,  1.26100069e+00,  9.36116234e-01,\n",
    "        1.35650577e+00,  1.07793067e+00,  1.26945274e+00)\n",
    "np_df = np.asarray(input_text)\n",
    "prediction = lr.predict(np_df.reshape(1,-1))\n",
    "\n",
    "if prediction[0] == 1:\n",
    "    print(\"Cancrous\")\n",
    "    \n",
    "else:\n",
    "    print(\"Non Cancrous\")"
   ]
  },
  {
   "cell_type": "code",
   "execution_count": 38,
   "id": "953b3a16",
   "metadata": {},
   "outputs": [
    {
     "data": {
      "text/plain": [
       "array([-0.4976419 ,  0.61365274, -0.49813131, -0.53102815, -0.57694824,\n",
       "       -0.17494424, -0.36215622, -0.284859  ,  0.43345165,  0.17818232,\n",
       "       -0.36844966,  0.55310406, -0.31671104, -0.40524636,  0.04025752,\n",
       "       -0.03795529, -0.18043065,  0.16478901, -0.12170969,  0.23079329,\n",
       "       -0.50044002,  0.81940367, -0.46922838, -0.53308833, -0.04910117,\n",
       "       -0.04160193, -0.14913653,  0.09681787,  0.10617647,  0.49035329])"
      ]
     },
     "execution_count": 38,
     "metadata": {},
     "output_type": "execute_result"
    }
   ],
   "source": [
    "x_train[10]"
   ]
  },
  {
   "cell_type": "code",
   "execution_count": 55,
   "id": "7ff39dd2",
   "metadata": {
    "scrolled": false
   },
   "outputs": [
    {
     "data": {
      "text/plain": [
       "array([-1.26011506, -0.16310297, -1.25095229, -1.0302484 , -0.45183767,\n",
       "       -0.78300175, -0.7485231 , -0.87168083,  1.55520219,  0.19067922,\n",
       "       -0.08632089,  0.27222162, -0.13980812, -0.36752201,  0.16765341,\n",
       "       -0.30912281, -0.17700495, -0.31984743, -0.1192596 ,  0.0332407 ,\n",
       "       -1.0601597 ,  0.01391574, -1.08654253, -0.8672748 , -0.35269495,\n",
       "       -0.63639469, -0.70228078, -0.74450654,  0.42639563,  0.07696503])"
      ]
     },
     "execution_count": 55,
     "metadata": {},
     "output_type": "execute_result"
    }
   ],
   "source": [
    "x_train[13]"
   ]
  },
  {
   "cell_type": "code",
   "execution_count": 40,
   "id": "95bd9c9f",
   "metadata": {},
   "outputs": [],
   "source": [
    "# Dummy Data"
   ]
  },
  {
   "cell_type": "code",
   "execution_count": 41,
   "id": "eaf14551",
   "metadata": {},
   "outputs": [
    {
     "data": {
      "text/plain": [
       "numpy.ndarray"
      ]
     },
     "execution_count": 41,
     "metadata": {},
     "output_type": "execute_result"
    }
   ],
   "source": [
    "import numpy as np\n",
    "a =np.array([18.02,\t15.10,\t115.0,\t1022.0,\t0.1223,\t0.2546,\t0.2900,\t0.1382,\t0.2190,\t0.0566,\t1.095,\t0.940,\t8.000,\t100.0,\t0.0065,\t0.0312,\t0.0364,\t0.0121,\t0.0213,\t0.0039,\t24.10,\t19.20,\t160.0,\t1783.0,\t0.1740,\t0.3774,\t0.4390,\t0.2102,\t0.3190,\t0.0865])\n",
    "type(a) \n",
    "# Cancrous"
   ]
  },
  {
   "cell_type": "code",
   "execution_count": 42,
   "id": "b4efeb4a",
   "metadata": {},
   "outputs": [
    {
     "ename": "SyntaxError",
     "evalue": "invalid syntax (2238052698.py, line 1)",
     "output_type": "error",
     "traceback": [
      "\u001b[1;36m  Cell \u001b[1;32mIn[42], line 1\u001b[1;36m\u001b[0m\n\u001b[1;33m    M\t18.02\t15.10\t115.0\t1022.0\t0.1223\t0.2546\t0.2900\t0.1382\t0.2190\t0.0566\t1.095\t0.940\t8.000\t100.0\t0.0065\t0.0312\t0.0364\t0.0121\t0.0213\t0.0039\t24.10\t19.20\t160.0\t1783.0\t0.1740\t0.3774\t0.4390\t0.2102\t0.3190\t0.0865\u001b[0m\n\u001b[1;37m     \t^\u001b[0m\n\u001b[1;31mSyntaxError\u001b[0m\u001b[1;31m:\u001b[0m invalid syntax\n"
     ]
    }
   ],
   "source": [
    "M\t18.02\t15.10\t115.0\t1022.0\t0.1223\t0.2546\t0.2900\t0.1382\t0.2190\t0.0566\t1.095\t0.940\t8.000\t100.0\t0.0065\t0.0312\t0.0364\t0.0121\t0.0213\t0.0039\t24.10\t19.20\t160.0\t1783.0\t0.1740\t0.3774\t0.4390\t0.2102\t0.3190\t0.0865\n",
    "B\t13.05\t14.65\t82.6\t530.0\t0.0910\t0.0852\t0.0710\t0.0375\t0.1780\t0.0524\t0.578\t0.735\t4.520\t56.2\t0.0049\t0.0194\t0.0241\t0.0087\t0.0201\t0.0021\t16.10\t17.30\t104.5\t900.5\t0.1456\t0.1975\t0.1850\t0.0827\t0.2156\t0.0623\n",
    "M\t19.30\t20.00\t130.0\t1327.5\t0.1201\t0.2526\t0.2750\t0.1300\t0.2000\t0.0598\t1.020\t0.900\t8.200\t120.0\t0.0060\t0.0289\t0.0382\t0.0152\t0.0250\t0.0040\t25.00\t18.90\t155.0\t2000.0\t0.1830\t0.3665\t0.4150\t0.2103\t0.3322\t0.0870\n",
    "B\t12.30\t12.75\t78.3\t450.0\t0.0894\t0.0725\t0.0654\t0.0330\t0.1500\t0.0467\t0.510\t0.670\t4.000\t40.0\t0.0038\t0.0155\t0.0201\t0.0078\t0.0152\t0.0020\t15.30\t15.50\t98.5\t765.3\t0.1302\t0.1801\t0.1608\t0.0800\t0.1952\t0.0590\n",
    "M\t22.50\t21.10\t143.7\t1820.0\t0.1405\t0.3154\t0.3700\t0.1687\t0.2302\t0.0667\t1.200\t1.050\t9.500\t175.0\t0.0081\t0.0321\t0.0407\t0.0135\t0.0272\t0.0043\t28.00\t21.50\t180.0\t2500.0\t0.1990\t0.4321\t0.5200\t0.2708\t0.4005\t0.0980\n"
   ]
  },
  {
   "cell_type": "code",
   "execution_count": 43,
   "id": "b2e66b95",
   "metadata": {},
   "outputs": [
    {
     "name": "stdout",
     "output_type": "stream",
     "text": [
      "[1.510e+01 1.150e+02 1.022e+03 1.223e-01 2.546e-01 2.900e-01 1.382e-01\n",
      " 2.190e-01 5.660e-02 1.095e+00 9.400e-01 8.000e+00 1.000e+02 6.500e-03\n",
      " 3.120e-02 3.640e-02 1.210e-02 2.130e-02 3.900e-03 2.410e+01 1.920e+01\n",
      " 1.600e+02 1.783e+03 1.740e-01 3.774e-01 4.390e-01 2.102e-01 3.190e-01\n",
      " 8.650e-02]\n",
      "<class 'numpy.ndarray'>\n",
      "[1.465e+01 8.260e+01 5.300e+02 9.100e-02 8.520e-02 7.100e-02 3.750e-02\n",
      " 1.780e-01 5.240e-02 5.780e-01 7.350e-01 4.520e+00 5.620e+01 4.900e-03\n",
      " 1.940e-02 2.410e-02 8.700e-03 2.010e-02 2.100e-03 1.610e+01 1.730e+01\n",
      " 1.045e+02 9.005e+02 1.456e-01 1.975e-01 1.850e-01 8.270e-02 2.156e-01\n",
      " 6.230e-02]\n",
      "<class 'numpy.ndarray'>\n",
      "[2.0000e+01 1.3000e+02 1.3275e+03 1.2010e-01 2.5260e-01 2.7500e-01\n",
      " 1.3000e-01 2.0000e-01 5.9800e-02 1.0200e+00 9.0000e-01 8.2000e+00\n",
      " 1.2000e+02 6.0000e-03 2.8900e-02 3.8200e-02 1.5200e-02 2.5000e-02\n",
      " 4.0000e-03 2.5000e+01 1.8900e+01 1.5500e+02 2.0000e+03 1.8300e-01\n",
      " 3.6650e-01 4.1500e-01 2.1030e-01 3.3220e-01 8.7000e-02]\n",
      "<class 'numpy.ndarray'>\n",
      "[1.275e+01 7.830e+01 4.500e+02 8.940e-02 7.250e-02 6.540e-02 3.300e-02\n",
      " 1.500e-01 4.670e-02 5.100e-01 6.700e-01 4.000e+00 4.000e+01 3.800e-03\n",
      " 1.550e-02 2.010e-02 7.800e-03 1.520e-02 2.000e-03 1.530e+01 1.550e+01\n",
      " 9.850e+01 7.653e+02 1.302e-01 1.801e-01 1.608e-01 8.000e-02 1.952e-01\n",
      " 5.900e-02]\n",
      "<class 'numpy.ndarray'>\n",
      "[2.110e+01 1.437e+02 1.820e+03 1.405e-01 3.154e-01 3.700e-01 1.687e-01\n",
      " 2.302e-01 6.670e-02 1.200e+00 1.050e+00 9.500e+00 1.750e+02 8.100e-03\n",
      " 3.210e-02 4.070e-02 1.350e-02 2.720e-02 4.300e-03 2.800e+01 2.150e+01\n",
      " 1.800e+02 2.500e+03 1.990e-01 4.321e-01 5.200e-01 2.708e-01 4.005e-01\n",
      " 9.800e-02]\n",
      "<class 'numpy.ndarray'>\n"
     ]
    }
   ],
   "source": [
    "import numpy as np\n",
    "\n",
    "# Provided data\n",
    "data = [\n",
    "    ['M', 18.02, 15.10, 115.0, 1022.0, 0.1223, 0.2546, 0.2900, 0.1382, 0.2190, 0.0566, 1.095, 0.940, 8.000, 100.0, 0.0065, 0.0312, 0.0364, 0.0121, 0.0213, 0.0039, 24.10, 19.20, 160.0, 1783.0, 0.1740, 0.3774, 0.4390, 0.2102, 0.3190, 0.0865],\n",
    "    ['B', 13.05, 14.65, 82.6, 530.0, 0.0910, 0.0852, 0.0710, 0.0375, 0.1780, 0.0524, 0.578, 0.735, 4.520, 56.2, 0.0049, 0.0194, 0.0241, 0.0087, 0.0201, 0.0021, 16.10, 17.30, 104.5, 900.5, 0.1456, 0.1975, 0.1850, 0.0827, 0.2156, 0.0623],\n",
    "    ['M', 19.30, 20.00, 130.0, 1327.5, 0.1201, 0.2526, 0.2750, 0.1300, 0.2000, 0.0598, 1.020, 0.900, 8.200, 120.0, 0.0060, 0.0289, 0.0382, 0.0152, 0.0250, 0.0040, 25.00, 18.90, 155.0, 2000.0, 0.1830, 0.3665, 0.4150, 0.2103, 0.3322, 0.0870],\n",
    "    ['B', 12.30, 12.75, 78.3, 450.0, 0.0894, 0.0725, 0.0654, 0.0330, 0.1500, 0.0467, 0.510, 0.670, 4.000, 40.0, 0.0038, 0.0155, 0.0201, 0.0078, 0.0152, 0.0020, 15.30, 15.50, 98.5, 765.3, 0.1302, 0.1801, 0.1608, 0.0800, 0.1952, 0.0590],\n",
    "    ['M', 22.50, 21.10, 143.7, 1820.0, 0.1405, 0.3154, 0.3700, 0.1687, 0.2302, 0.0667, 1.200, 1.050, 9.500, 175.0, 0.0081, 0.0321, 0.0407, 0.0135, 0.0272, 0.0043, 28.00, 21.50, 180.0, 2500.0, 0.1990, 0.4321, 0.5200, 0.2708, 0.4005, 0.0980]\n",
    "]\n",
    "\n",
    "# Remove the second column (label) and convert remaining data to numpy arrays\n",
    "arrays = [np.array(row[2:], dtype=float) for row in data]\n",
    "\n",
    "for array in arrays:\n",
    "    print(array)\n",
    "    print(type(array))\n"
   ]
  },
  {
   "cell_type": "code",
   "execution_count": 54,
   "id": "e06ad72a",
   "metadata": {},
   "outputs": [
    {
     "name": "stdout",
     "output_type": "stream",
     "text": [
      "(18.02, 15.1, 115.0, 1022.0, 0.1223, 0.2546, 0.29, 0.1382, 0.219, 0.0566, 1.095, 0.94, 8.0, 100.0, 0.0065, 0.0312, 0.0364, 0.0121, 0.0213, 0.0039, 24.1, 19.2, 160.0, 1783.0, 0.174, 0.3774, 0.439, 0.2102, 0.319, 0.0865)\n",
      "(13.05, 14.65, 82.6, 530.0, 0.091, 0.0852, 0.071, 0.0375, 0.178, 0.0524, 0.578, 0.735, 4.52, 56.2, 0.0049, 0.0194, 0.0241, 0.0087, 0.0201, 0.0021, 16.1, 17.3, 104.5, 900.5, 0.1456, 0.1975, 0.185, 0.0827, 0.2156, 0.0623)\n",
      "(19.3, 20.0, 130.0, 1327.5, 0.1201, 0.2526, 0.275, 0.13, 0.2, 0.0598, 1.02, 0.9, 8.2, 120.0, 0.006, 0.0289, 0.0382, 0.0152, 0.025, 0.004, 25.0, 18.9, 155.0, 2000.0, 0.183, 0.3665, 0.415, 0.2103, 0.3322, 0.087)\n",
      "(12.3, 12.75, 78.3, 450.0, 0.0894, 0.0725, 0.0654, 0.033, 0.15, 0.0467, 0.51, 0.67, 4.0, 40.0, 0.0038, 0.0155, 0.0201, 0.0078, 0.0152, 0.002, 15.3, 15.5, 98.5, 765.3, 0.1302, 0.1801, 0.1608, 0.08, 0.1952, 0.059)\n",
      "(22.5, 21.1, 143.7, 1820.0, 0.1405, 0.3154, 0.37, 0.1687, 0.2302, 0.0667, 1.2, 1.05, 9.5, 175.0, 0.0081, 0.0321, 0.0407, 0.0135, 0.0272, 0.0043, 28.0, 21.5, 180.0, 2500.0, 0.199, 0.4321, 0.52, 0.2708, 0.4005, 0.098)\n"
     ]
    }
   ],
   "source": [
    "import numpy as np\n",
    "\n",
    "# Provided data\n",
    "data = [\n",
    "    ['M', 18.02, 15.10, 115.0, 1022.0, 0.1223, 0.2546, 0.2900, 0.1382, 0.2190, 0.0566, 1.095, 0.940, 8.000, 100.0, 0.0065, 0.0312, 0.0364, 0.0121, 0.0213, 0.0039, 24.10, 19.20, 160.0, 1783.0, 0.1740, 0.3774, 0.4390, 0.2102, 0.3190, 0.0865],\n",
    "    ['B', 13.05, 14.65, 82.6, 530.0, 0.0910, 0.0852, 0.0710, 0.0375, 0.1780, 0.0524, 0.578, 0.735, 4.520, 56.2, 0.0049, 0.0194, 0.0241, 0.0087, 0.0201, 0.0021, 16.10, 17.30, 104.5, 900.5, 0.1456, 0.1975, 0.1850, 0.0827, 0.2156, 0.0623],\n",
    "    ['M', 19.30, 20.00, 130.0, 1327.5, 0.1201, 0.2526, 0.2750, 0.1300, 0.2000, 0.0598, 1.020, 0.900, 8.200, 120.0, 0.0060, 0.0289, 0.0382, 0.0152, 0.0250, 0.0040, 25.00, 18.90, 155.0, 2000.0, 0.1830, 0.3665, 0.4150, 0.2103, 0.3322, 0.0870],\n",
    "    ['B', 12.30, 12.75, 78.3, 450.0, 0.0894, 0.0725, 0.0654, 0.0330, 0.1500, 0.0467, 0.510, 0.670, 4.000, 40.0, 0.0038, 0.0155, 0.0201, 0.0078, 0.0152, 0.0020, 15.30, 15.50, 98.5, 765.3, 0.1302, 0.1801, 0.1608, 0.0800, 0.1952, 0.0590],\n",
    "    ['M', 22.50, 21.10, 143.7, 1820.0, 0.1405, 0.3154, 0.3700, 0.1687, 0.2302, 0.0667, 1.200, 1.050, 9.500, 175.0, 0.0081, 0.0321, 0.0407, 0.0135, 0.0272, 0.0043, 28.00, 21.50, 180.0, 2500.0, 0.1990, 0.4321, 0.5200, 0.2708, 0.4005, 0.0980],\n",
    "    ['B', 12.06,\t18.90,\t76.66,\t445.3,\t0.08386,\t0.05794,\t0.00751,\t0.008488,\t0.1555,\t...\t13.64,\t27.06,\t86.54,\t562.6,\t0.1289,\t0.1352,\t0.04506,\t0.05093,\t0.2880,\t0.08083]\n",
    "]\n",
    "\n",
    "# Remove the second column (label) and convert remaining data to numpy arrays\n",
    "arrays = [np.array(row[1:], dtype=float) for row in data]\n",
    "\n",
    "# Print arrays with each value followed by a comma\n",
    "for array in arrays:\n",
    "    print(\"(\"+', '.join(f\"{x}\" for x in array) + \")\")\n"
   ]
  },
  {
   "cell_type": "code",
   "execution_count": null,
   "id": "d09c4a3b",
   "metadata": {},
   "outputs": [],
   "source": []
  },
  {
   "cell_type": "code",
   "execution_count": null,
   "id": "e52ce902",
   "metadata": {},
   "outputs": [],
   "source": []
  },
  {
   "cell_type": "markdown",
   "id": "7fca60ef",
   "metadata": {},
   "source": [
    "# Export"
   ]
  },
  {
   "cell_type": "code",
   "execution_count": 44,
   "id": "1ff1c26f",
   "metadata": {},
   "outputs": [],
   "source": [
    "import pickle\n",
    "pickle.dump(lr, open('breast_cancer_model.pkl', 'wb'))"
   ]
  },
  {
   "cell_type": "code",
   "execution_count": null,
   "id": "3e993d68",
   "metadata": {},
   "outputs": [],
   "source": []
  },
  {
   "cell_type": "code",
   "execution_count": null,
   "id": "48ba1bd8",
   "metadata": {},
   "outputs": [],
   "source": []
  },
  {
   "cell_type": "code",
   "execution_count": 98,
   "id": "65637247",
   "metadata": {},
   "outputs": [
    {
     "data": {
      "text/plain": [
       "(569, 33)"
      ]
     },
     "execution_count": 98,
     "metadata": {},
     "output_type": "execute_result"
    }
   ],
   "source": [
    "breast.shape"
   ]
  },
  {
   "cell_type": "code",
   "execution_count": 99,
   "id": "7b495ef1",
   "metadata": {},
   "outputs": [
    {
     "name": "stdout",
     "output_type": "stream",
     "text": [
      "<class 'pandas.core.frame.DataFrame'>\n",
      "RangeIndex: 569 entries, 0 to 568\n",
      "Data columns (total 33 columns):\n",
      " #   Column                   Non-Null Count  Dtype  \n",
      "---  ------                   --------------  -----  \n",
      " 0   id                       569 non-null    int64  \n",
      " 1   diagnosis                569 non-null    object \n",
      " 2   radius_mean              569 non-null    float64\n",
      " 3   texture_mean             569 non-null    float64\n",
      " 4   perimeter_mean           569 non-null    float64\n",
      " 5   area_mean                569 non-null    float64\n",
      " 6   smoothness_mean          569 non-null    float64\n",
      " 7   compactness_mean         569 non-null    float64\n",
      " 8   concavity_mean           569 non-null    float64\n",
      " 9   concave points_mean      569 non-null    float64\n",
      " 10  symmetry_mean            569 non-null    float64\n",
      " 11  fractal_dimension_mean   569 non-null    float64\n",
      " 12  radius_se                569 non-null    float64\n",
      " 13  texture_se               569 non-null    float64\n",
      " 14  perimeter_se             569 non-null    float64\n",
      " 15  area_se                  569 non-null    float64\n",
      " 16  smoothness_se            569 non-null    float64\n",
      " 17  compactness_se           569 non-null    float64\n",
      " 18  concavity_se             569 non-null    float64\n",
      " 19  concave points_se        569 non-null    float64\n",
      " 20  symmetry_se              569 non-null    float64\n",
      " 21  fractal_dimension_se     569 non-null    float64\n",
      " 22  radius_worst             569 non-null    float64\n",
      " 23  texture_worst            569 non-null    float64\n",
      " 24  perimeter_worst          569 non-null    float64\n",
      " 25  area_worst               569 non-null    float64\n",
      " 26  smoothness_worst         569 non-null    float64\n",
      " 27  compactness_worst        569 non-null    float64\n",
      " 28  concavity_worst          569 non-null    float64\n",
      " 29  concave points_worst     569 non-null    float64\n",
      " 30  symmetry_worst           569 non-null    float64\n",
      " 31  fractal_dimension_worst  569 non-null    float64\n",
      " 32  Unnamed: 32              0 non-null      float64\n",
      "dtypes: float64(31), int64(1), object(1)\n",
      "memory usage: 146.8+ KB\n"
     ]
    }
   ],
   "source": [
    "breast.info()"
   ]
  },
  {
   "cell_type": "code",
   "execution_count": 100,
   "id": "8d156cdb",
   "metadata": {},
   "outputs": [
    {
     "data": {
      "text/plain": [
       "id                           0\n",
       "diagnosis                    0\n",
       "radius_mean                  0\n",
       "texture_mean                 0\n",
       "perimeter_mean               0\n",
       "area_mean                    0\n",
       "smoothness_mean              0\n",
       "compactness_mean             0\n",
       "concavity_mean               0\n",
       "concave points_mean          0\n",
       "symmetry_mean                0\n",
       "fractal_dimension_mean       0\n",
       "radius_se                    0\n",
       "texture_se                   0\n",
       "perimeter_se                 0\n",
       "area_se                      0\n",
       "smoothness_se                0\n",
       "compactness_se               0\n",
       "concavity_se                 0\n",
       "concave points_se            0\n",
       "symmetry_se                  0\n",
       "fractal_dimension_se         0\n",
       "radius_worst                 0\n",
       "texture_worst                0\n",
       "perimeter_worst              0\n",
       "area_worst                   0\n",
       "smoothness_worst             0\n",
       "compactness_worst            0\n",
       "concavity_worst              0\n",
       "concave points_worst         0\n",
       "symmetry_worst               0\n",
       "fractal_dimension_worst      0\n",
       "Unnamed: 32                569\n",
       "dtype: int64"
      ]
     },
     "execution_count": 100,
     "metadata": {},
     "output_type": "execute_result"
    }
   ],
   "source": [
    "breast.isnull().sum()"
   ]
  },
  {
   "cell_type": "code",
   "execution_count": 101,
   "id": "2e071e93",
   "metadata": {},
   "outputs": [
    {
     "data": {
      "text/plain": [
       "0"
      ]
     },
     "execution_count": 101,
     "metadata": {},
     "output_type": "execute_result"
    }
   ],
   "source": [
    "breast.duplicated().sum()"
   ]
  },
  {
   "cell_type": "code",
   "execution_count": 102,
   "id": "8b2802fd",
   "metadata": {},
   "outputs": [
    {
     "data": {
      "text/html": [
       "<div>\n",
       "<style scoped>\n",
       "    .dataframe tbody tr th:only-of-type {\n",
       "        vertical-align: middle;\n",
       "    }\n",
       "\n",
       "    .dataframe tbody tr th {\n",
       "        vertical-align: top;\n",
       "    }\n",
       "\n",
       "    .dataframe thead th {\n",
       "        text-align: right;\n",
       "    }\n",
       "</style>\n",
       "<table border=\"1\" class=\"dataframe\">\n",
       "  <thead>\n",
       "    <tr style=\"text-align: right;\">\n",
       "      <th></th>\n",
       "      <th>id</th>\n",
       "      <th>radius_mean</th>\n",
       "      <th>texture_mean</th>\n",
       "      <th>perimeter_mean</th>\n",
       "      <th>area_mean</th>\n",
       "      <th>smoothness_mean</th>\n",
       "      <th>compactness_mean</th>\n",
       "      <th>concavity_mean</th>\n",
       "      <th>concave points_mean</th>\n",
       "      <th>symmetry_mean</th>\n",
       "      <th>...</th>\n",
       "      <th>texture_worst</th>\n",
       "      <th>perimeter_worst</th>\n",
       "      <th>area_worst</th>\n",
       "      <th>smoothness_worst</th>\n",
       "      <th>compactness_worst</th>\n",
       "      <th>concavity_worst</th>\n",
       "      <th>concave points_worst</th>\n",
       "      <th>symmetry_worst</th>\n",
       "      <th>fractal_dimension_worst</th>\n",
       "      <th>Unnamed: 32</th>\n",
       "    </tr>\n",
       "  </thead>\n",
       "  <tbody>\n",
       "    <tr>\n",
       "      <th>count</th>\n",
       "      <td>5.690000e+02</td>\n",
       "      <td>569.000000</td>\n",
       "      <td>569.000000</td>\n",
       "      <td>569.000000</td>\n",
       "      <td>569.000000</td>\n",
       "      <td>569.000000</td>\n",
       "      <td>569.000000</td>\n",
       "      <td>569.000000</td>\n",
       "      <td>569.000000</td>\n",
       "      <td>569.000000</td>\n",
       "      <td>...</td>\n",
       "      <td>569.000000</td>\n",
       "      <td>569.000000</td>\n",
       "      <td>569.000000</td>\n",
       "      <td>569.000000</td>\n",
       "      <td>569.000000</td>\n",
       "      <td>569.000000</td>\n",
       "      <td>569.000000</td>\n",
       "      <td>569.000000</td>\n",
       "      <td>569.000000</td>\n",
       "      <td>0.0</td>\n",
       "    </tr>\n",
       "    <tr>\n",
       "      <th>mean</th>\n",
       "      <td>3.037183e+07</td>\n",
       "      <td>14.127292</td>\n",
       "      <td>19.289649</td>\n",
       "      <td>91.969033</td>\n",
       "      <td>654.889104</td>\n",
       "      <td>0.096360</td>\n",
       "      <td>0.104341</td>\n",
       "      <td>0.088799</td>\n",
       "      <td>0.048919</td>\n",
       "      <td>0.181162</td>\n",
       "      <td>...</td>\n",
       "      <td>25.677223</td>\n",
       "      <td>107.261213</td>\n",
       "      <td>880.583128</td>\n",
       "      <td>0.132369</td>\n",
       "      <td>0.254265</td>\n",
       "      <td>0.272188</td>\n",
       "      <td>0.114606</td>\n",
       "      <td>0.290076</td>\n",
       "      <td>0.083946</td>\n",
       "      <td>NaN</td>\n",
       "    </tr>\n",
       "    <tr>\n",
       "      <th>std</th>\n",
       "      <td>1.250206e+08</td>\n",
       "      <td>3.524049</td>\n",
       "      <td>4.301036</td>\n",
       "      <td>24.298981</td>\n",
       "      <td>351.914129</td>\n",
       "      <td>0.014064</td>\n",
       "      <td>0.052813</td>\n",
       "      <td>0.079720</td>\n",
       "      <td>0.038803</td>\n",
       "      <td>0.027414</td>\n",
       "      <td>...</td>\n",
       "      <td>6.146258</td>\n",
       "      <td>33.602542</td>\n",
       "      <td>569.356993</td>\n",
       "      <td>0.022832</td>\n",
       "      <td>0.157336</td>\n",
       "      <td>0.208624</td>\n",
       "      <td>0.065732</td>\n",
       "      <td>0.061867</td>\n",
       "      <td>0.018061</td>\n",
       "      <td>NaN</td>\n",
       "    </tr>\n",
       "    <tr>\n",
       "      <th>min</th>\n",
       "      <td>8.670000e+03</td>\n",
       "      <td>6.981000</td>\n",
       "      <td>9.710000</td>\n",
       "      <td>43.790000</td>\n",
       "      <td>143.500000</td>\n",
       "      <td>0.052630</td>\n",
       "      <td>0.019380</td>\n",
       "      <td>0.000000</td>\n",
       "      <td>0.000000</td>\n",
       "      <td>0.106000</td>\n",
       "      <td>...</td>\n",
       "      <td>12.020000</td>\n",
       "      <td>50.410000</td>\n",
       "      <td>185.200000</td>\n",
       "      <td>0.071170</td>\n",
       "      <td>0.027290</td>\n",
       "      <td>0.000000</td>\n",
       "      <td>0.000000</td>\n",
       "      <td>0.156500</td>\n",
       "      <td>0.055040</td>\n",
       "      <td>NaN</td>\n",
       "    </tr>\n",
       "    <tr>\n",
       "      <th>25%</th>\n",
       "      <td>8.692180e+05</td>\n",
       "      <td>11.700000</td>\n",
       "      <td>16.170000</td>\n",
       "      <td>75.170000</td>\n",
       "      <td>420.300000</td>\n",
       "      <td>0.086370</td>\n",
       "      <td>0.064920</td>\n",
       "      <td>0.029560</td>\n",
       "      <td>0.020310</td>\n",
       "      <td>0.161900</td>\n",
       "      <td>...</td>\n",
       "      <td>21.080000</td>\n",
       "      <td>84.110000</td>\n",
       "      <td>515.300000</td>\n",
       "      <td>0.116600</td>\n",
       "      <td>0.147200</td>\n",
       "      <td>0.114500</td>\n",
       "      <td>0.064930</td>\n",
       "      <td>0.250400</td>\n",
       "      <td>0.071460</td>\n",
       "      <td>NaN</td>\n",
       "    </tr>\n",
       "    <tr>\n",
       "      <th>50%</th>\n",
       "      <td>9.060240e+05</td>\n",
       "      <td>13.370000</td>\n",
       "      <td>18.840000</td>\n",
       "      <td>86.240000</td>\n",
       "      <td>551.100000</td>\n",
       "      <td>0.095870</td>\n",
       "      <td>0.092630</td>\n",
       "      <td>0.061540</td>\n",
       "      <td>0.033500</td>\n",
       "      <td>0.179200</td>\n",
       "      <td>...</td>\n",
       "      <td>25.410000</td>\n",
       "      <td>97.660000</td>\n",
       "      <td>686.500000</td>\n",
       "      <td>0.131300</td>\n",
       "      <td>0.211900</td>\n",
       "      <td>0.226700</td>\n",
       "      <td>0.099930</td>\n",
       "      <td>0.282200</td>\n",
       "      <td>0.080040</td>\n",
       "      <td>NaN</td>\n",
       "    </tr>\n",
       "    <tr>\n",
       "      <th>75%</th>\n",
       "      <td>8.813129e+06</td>\n",
       "      <td>15.780000</td>\n",
       "      <td>21.800000</td>\n",
       "      <td>104.100000</td>\n",
       "      <td>782.700000</td>\n",
       "      <td>0.105300</td>\n",
       "      <td>0.130400</td>\n",
       "      <td>0.130700</td>\n",
       "      <td>0.074000</td>\n",
       "      <td>0.195700</td>\n",
       "      <td>...</td>\n",
       "      <td>29.720000</td>\n",
       "      <td>125.400000</td>\n",
       "      <td>1084.000000</td>\n",
       "      <td>0.146000</td>\n",
       "      <td>0.339100</td>\n",
       "      <td>0.382900</td>\n",
       "      <td>0.161400</td>\n",
       "      <td>0.317900</td>\n",
       "      <td>0.092080</td>\n",
       "      <td>NaN</td>\n",
       "    </tr>\n",
       "    <tr>\n",
       "      <th>max</th>\n",
       "      <td>9.113205e+08</td>\n",
       "      <td>28.110000</td>\n",
       "      <td>39.280000</td>\n",
       "      <td>188.500000</td>\n",
       "      <td>2501.000000</td>\n",
       "      <td>0.163400</td>\n",
       "      <td>0.345400</td>\n",
       "      <td>0.426800</td>\n",
       "      <td>0.201200</td>\n",
       "      <td>0.304000</td>\n",
       "      <td>...</td>\n",
       "      <td>49.540000</td>\n",
       "      <td>251.200000</td>\n",
       "      <td>4254.000000</td>\n",
       "      <td>0.222600</td>\n",
       "      <td>1.058000</td>\n",
       "      <td>1.252000</td>\n",
       "      <td>0.291000</td>\n",
       "      <td>0.663800</td>\n",
       "      <td>0.207500</td>\n",
       "      <td>NaN</td>\n",
       "    </tr>\n",
       "  </tbody>\n",
       "</table>\n",
       "<p>8 rows × 32 columns</p>\n",
       "</div>"
      ],
      "text/plain": [
       "                 id  radius_mean  texture_mean  perimeter_mean    area_mean  \\\n",
       "count  5.690000e+02   569.000000    569.000000      569.000000   569.000000   \n",
       "mean   3.037183e+07    14.127292     19.289649       91.969033   654.889104   \n",
       "std    1.250206e+08     3.524049      4.301036       24.298981   351.914129   \n",
       "min    8.670000e+03     6.981000      9.710000       43.790000   143.500000   \n",
       "25%    8.692180e+05    11.700000     16.170000       75.170000   420.300000   \n",
       "50%    9.060240e+05    13.370000     18.840000       86.240000   551.100000   \n",
       "75%    8.813129e+06    15.780000     21.800000      104.100000   782.700000   \n",
       "max    9.113205e+08    28.110000     39.280000      188.500000  2501.000000   \n",
       "\n",
       "       smoothness_mean  compactness_mean  concavity_mean  concave points_mean  \\\n",
       "count       569.000000        569.000000      569.000000           569.000000   \n",
       "mean          0.096360          0.104341        0.088799             0.048919   \n",
       "std           0.014064          0.052813        0.079720             0.038803   \n",
       "min           0.052630          0.019380        0.000000             0.000000   \n",
       "25%           0.086370          0.064920        0.029560             0.020310   \n",
       "50%           0.095870          0.092630        0.061540             0.033500   \n",
       "75%           0.105300          0.130400        0.130700             0.074000   \n",
       "max           0.163400          0.345400        0.426800             0.201200   \n",
       "\n",
       "       symmetry_mean  ...  texture_worst  perimeter_worst   area_worst  \\\n",
       "count     569.000000  ...     569.000000       569.000000   569.000000   \n",
       "mean        0.181162  ...      25.677223       107.261213   880.583128   \n",
       "std         0.027414  ...       6.146258        33.602542   569.356993   \n",
       "min         0.106000  ...      12.020000        50.410000   185.200000   \n",
       "25%         0.161900  ...      21.080000        84.110000   515.300000   \n",
       "50%         0.179200  ...      25.410000        97.660000   686.500000   \n",
       "75%         0.195700  ...      29.720000       125.400000  1084.000000   \n",
       "max         0.304000  ...      49.540000       251.200000  4254.000000   \n",
       "\n",
       "       smoothness_worst  compactness_worst  concavity_worst  \\\n",
       "count        569.000000         569.000000       569.000000   \n",
       "mean           0.132369           0.254265         0.272188   \n",
       "std            0.022832           0.157336         0.208624   \n",
       "min            0.071170           0.027290         0.000000   \n",
       "25%            0.116600           0.147200         0.114500   \n",
       "50%            0.131300           0.211900         0.226700   \n",
       "75%            0.146000           0.339100         0.382900   \n",
       "max            0.222600           1.058000         1.252000   \n",
       "\n",
       "       concave points_worst  symmetry_worst  fractal_dimension_worst  \\\n",
       "count            569.000000      569.000000               569.000000   \n",
       "mean               0.114606        0.290076                 0.083946   \n",
       "std                0.065732        0.061867                 0.018061   \n",
       "min                0.000000        0.156500                 0.055040   \n",
       "25%                0.064930        0.250400                 0.071460   \n",
       "50%                0.099930        0.282200                 0.080040   \n",
       "75%                0.161400        0.317900                 0.092080   \n",
       "max                0.291000        0.663800                 0.207500   \n",
       "\n",
       "       Unnamed: 32  \n",
       "count          0.0  \n",
       "mean           NaN  \n",
       "std            NaN  \n",
       "min            NaN  \n",
       "25%            NaN  \n",
       "50%            NaN  \n",
       "75%            NaN  \n",
       "max            NaN  \n",
       "\n",
       "[8 rows x 32 columns]"
      ]
     },
     "execution_count": 102,
     "metadata": {},
     "output_type": "execute_result"
    }
   ],
   "source": [
    "breast.describe()"
   ]
  },
  {
   "cell_type": "code",
   "execution_count": 103,
   "id": "dbf803e3",
   "metadata": {},
   "outputs": [],
   "source": [
    "breast.drop(columns=['Unnamed: 32','id'], inplace=True)"
   ]
  },
  {
   "cell_type": "code",
   "execution_count": 104,
   "id": "7cb0504f",
   "metadata": {},
   "outputs": [
    {
     "data": {
      "text/plain": [
       "(569, 31)"
      ]
     },
     "execution_count": 104,
     "metadata": {},
     "output_type": "execute_result"
    }
   ],
   "source": [
    "breast.shape"
   ]
  },
  {
   "cell_type": "markdown",
   "id": "4af81ee3",
   "metadata": {},
   "source": [
    "# Encoding Target Col"
   ]
  },
  {
   "cell_type": "code",
   "execution_count": 105,
   "id": "5b938e33",
   "metadata": {},
   "outputs": [
    {
     "data": {
      "text/plain": [
       "diagnosis\n",
       "B    357\n",
       "M    212\n",
       "Name: count, dtype: int64"
      ]
     },
     "execution_count": 105,
     "metadata": {},
     "output_type": "execute_result"
    }
   ],
   "source": [
    "breast['diagnosis'].value_counts()"
   ]
  },
  {
   "cell_type": "code",
   "execution_count": 106,
   "id": "3aea69ad",
   "metadata": {},
   "outputs": [],
   "source": [
    "le = LabelEncoder()"
   ]
  },
  {
   "cell_type": "code",
   "execution_count": 107,
   "id": "899d9d1c",
   "metadata": {},
   "outputs": [],
   "source": [
    "breast['diagnosis'] = le.fit_transform(breast['diagnosis'])"
   ]
  },
  {
   "cell_type": "code",
   "execution_count": 108,
   "id": "8298ceb2",
   "metadata": {},
   "outputs": [
    {
     "data": {
      "text/plain": [
       "array([1, 0])"
      ]
     },
     "execution_count": 108,
     "metadata": {},
     "output_type": "execute_result"
    }
   ],
   "source": [
    "breast['diagnosis'].unique()"
   ]
  },
  {
   "cell_type": "code",
   "execution_count": 109,
   "id": "90b8b58c",
   "metadata": {},
   "outputs": [
    {
     "data": {
      "text/plain": [
       "diagnosis\n",
       "0    357\n",
       "1    212\n",
       "Name: count, dtype: int64"
      ]
     },
     "execution_count": 109,
     "metadata": {},
     "output_type": "execute_result"
    }
   ],
   "source": [
    "breast['diagnosis'].value_counts()"
   ]
  },
  {
   "cell_type": "code",
   "execution_count": 23,
   "id": "840e8287",
   "metadata": {},
   "outputs": [
    {
     "data": {
      "text/html": [
       "<div>\n",
       "<style scoped>\n",
       "    .dataframe tbody tr th:only-of-type {\n",
       "        vertical-align: middle;\n",
       "    }\n",
       "\n",
       "    .dataframe tbody tr th {\n",
       "        vertical-align: top;\n",
       "    }\n",
       "\n",
       "    .dataframe thead th {\n",
       "        text-align: right;\n",
       "    }\n",
       "</style>\n",
       "<table border=\"1\" class=\"dataframe\">\n",
       "  <thead>\n",
       "    <tr style=\"text-align: right;\">\n",
       "      <th></th>\n",
       "      <th>diagnosis</th>\n",
       "      <th>radius_mean</th>\n",
       "      <th>texture_mean</th>\n",
       "      <th>perimeter_mean</th>\n",
       "      <th>area_mean</th>\n",
       "      <th>smoothness_mean</th>\n",
       "      <th>compactness_mean</th>\n",
       "      <th>concavity_mean</th>\n",
       "      <th>concave points_mean</th>\n",
       "      <th>symmetry_mean</th>\n",
       "      <th>...</th>\n",
       "      <th>radius_worst</th>\n",
       "      <th>texture_worst</th>\n",
       "      <th>perimeter_worst</th>\n",
       "      <th>area_worst</th>\n",
       "      <th>smoothness_worst</th>\n",
       "      <th>compactness_worst</th>\n",
       "      <th>concavity_worst</th>\n",
       "      <th>concave points_worst</th>\n",
       "      <th>symmetry_worst</th>\n",
       "      <th>fractal_dimension_worst</th>\n",
       "    </tr>\n",
       "  </thead>\n",
       "  <tbody>\n",
       "    <tr>\n",
       "      <th>0</th>\n",
       "      <td>1</td>\n",
       "      <td>17.99</td>\n",
       "      <td>10.38</td>\n",
       "      <td>122.8</td>\n",
       "      <td>1001.0</td>\n",
       "      <td>0.1184</td>\n",
       "      <td>0.2776</td>\n",
       "      <td>0.3001</td>\n",
       "      <td>0.1471</td>\n",
       "      <td>0.2419</td>\n",
       "      <td>...</td>\n",
       "      <td>25.38</td>\n",
       "      <td>17.33</td>\n",
       "      <td>184.6</td>\n",
       "      <td>2019.0</td>\n",
       "      <td>0.1622</td>\n",
       "      <td>0.6656</td>\n",
       "      <td>0.7119</td>\n",
       "      <td>0.2654</td>\n",
       "      <td>0.4601</td>\n",
       "      <td>0.1189</td>\n",
       "    </tr>\n",
       "  </tbody>\n",
       "</table>\n",
       "<p>1 rows × 31 columns</p>\n",
       "</div>"
      ],
      "text/plain": [
       "   diagnosis  radius_mean  texture_mean  perimeter_mean  area_mean  \\\n",
       "0          1        17.99         10.38           122.8     1001.0   \n",
       "\n",
       "   smoothness_mean  compactness_mean  concavity_mean  concave points_mean  \\\n",
       "0           0.1184            0.2776          0.3001               0.1471   \n",
       "\n",
       "   symmetry_mean  ...  radius_worst  texture_worst  perimeter_worst  \\\n",
       "0         0.2419  ...         25.38          17.33            184.6   \n",
       "\n",
       "   area_worst  smoothness_worst  compactness_worst  concavity_worst  \\\n",
       "0      2019.0            0.1622             0.6656           0.7119   \n",
       "\n",
       "   concave points_worst  symmetry_worst  fractal_dimension_worst  \n",
       "0                0.2654          0.4601                   0.1189  \n",
       "\n",
       "[1 rows x 31 columns]"
      ]
     },
     "execution_count": 23,
     "metadata": {},
     "output_type": "execute_result"
    }
   ],
   "source": [
    "breast.head(1)"
   ]
  },
  {
   "cell_type": "markdown",
   "id": "de1aae5c",
   "metadata": {},
   "source": [
    "# Splitting Data"
   ]
  },
  {
   "cell_type": "code",
   "execution_count": 24,
   "id": "f3f4bece",
   "metadata": {},
   "outputs": [],
   "source": [
    "x = breast.drop(columns='diagnosis')\n",
    "y = breast['diagnosis']"
   ]
  },
  {
   "cell_type": "code",
   "execution_count": 25,
   "id": "39374322",
   "metadata": {},
   "outputs": [],
   "source": [
    "x_train, x_test, y_train, y_test = train_test_split(x,y, test_size=0.2, random_state=42)"
   ]
  },
  {
   "cell_type": "code",
   "execution_count": 26,
   "id": "ec4f863c",
   "metadata": {},
   "outputs": [
    {
     "data": {
      "text/plain": [
       "(455, 30)"
      ]
     },
     "execution_count": 26,
     "metadata": {},
     "output_type": "execute_result"
    }
   ],
   "source": [
    "x_train.shape"
   ]
  },
  {
   "cell_type": "code",
   "execution_count": 27,
   "id": "779cc980",
   "metadata": {},
   "outputs": [
    {
     "data": {
      "text/plain": [
       "(114, 30)"
      ]
     },
     "execution_count": 27,
     "metadata": {},
     "output_type": "execute_result"
    }
   ],
   "source": [
    "x_test.shape"
   ]
  },
  {
   "cell_type": "markdown",
   "id": "826d6b84",
   "metadata": {},
   "source": [
    "# Scalling"
   ]
  },
  {
   "cell_type": "code",
   "execution_count": 28,
   "id": "334fb841",
   "metadata": {},
   "outputs": [],
   "source": [
    "sc = StandardScaler()"
   ]
  },
  {
   "cell_type": "code",
   "execution_count": 29,
   "id": "cd685a90",
   "metadata": {},
   "outputs": [],
   "source": [
    "x_train =sc.fit_transform(x_train)"
   ]
  },
  {
   "cell_type": "code",
   "execution_count": 30,
   "id": "5000c71d",
   "metadata": {},
   "outputs": [],
   "source": [
    "x_test = sc.transform(x_test)"
   ]
  },
  {
   "cell_type": "code",
   "execution_count": 31,
   "id": "5b6b9b06",
   "metadata": {},
   "outputs": [
    {
     "data": {
      "text/plain": [
       "array([-1.44075296, -0.43531947, -1.36208497, -1.1391179 ,  0.78057331,\n",
       "        0.71892128,  2.82313451, -0.11914956,  1.09266219,  2.45817261,\n",
       "       -0.26380039, -0.01605246, -0.47041357, -0.47476088,  0.83836493,\n",
       "        3.25102691,  8.43893667,  3.39198733,  2.62116574,  2.06120787,\n",
       "       -1.23286131, -0.47630949, -1.24792009, -0.97396758,  0.72289445,\n",
       "        1.18673232,  4.67282796,  0.9320124 ,  2.09724217,  1.88645014])"
      ]
     },
     "execution_count": 31,
     "metadata": {},
     "output_type": "execute_result"
    }
   ],
   "source": [
    "x_train[0]"
   ]
  },
  {
   "cell_type": "markdown",
   "id": "9237e225",
   "metadata": {},
   "source": [
    "# Model Building"
   ]
  },
  {
   "cell_type": "code",
   "execution_count": 32,
   "id": "d1e07556",
   "metadata": {},
   "outputs": [],
   "source": [
    "lr = LogisticRegression()"
   ]
  },
  {
   "cell_type": "code",
   "execution_count": 33,
   "id": "7a020f1e",
   "metadata": {},
   "outputs": [
    {
     "data": {
      "text/html": [
       "<style>#sk-container-id-1 {color: black;background-color: white;}#sk-container-id-1 pre{padding: 0;}#sk-container-id-1 div.sk-toggleable {background-color: white;}#sk-container-id-1 label.sk-toggleable__label {cursor: pointer;display: block;width: 100%;margin-bottom: 0;padding: 0.3em;box-sizing: border-box;text-align: center;}#sk-container-id-1 label.sk-toggleable__label-arrow:before {content: \"▸\";float: left;margin-right: 0.25em;color: #696969;}#sk-container-id-1 label.sk-toggleable__label-arrow:hover:before {color: black;}#sk-container-id-1 div.sk-estimator:hover label.sk-toggleable__label-arrow:before {color: black;}#sk-container-id-1 div.sk-toggleable__content {max-height: 0;max-width: 0;overflow: hidden;text-align: left;background-color: #f0f8ff;}#sk-container-id-1 div.sk-toggleable__content pre {margin: 0.2em;color: black;border-radius: 0.25em;background-color: #f0f8ff;}#sk-container-id-1 input.sk-toggleable__control:checked~div.sk-toggleable__content {max-height: 200px;max-width: 100%;overflow: auto;}#sk-container-id-1 input.sk-toggleable__control:checked~label.sk-toggleable__label-arrow:before {content: \"▾\";}#sk-container-id-1 div.sk-estimator input.sk-toggleable__control:checked~label.sk-toggleable__label {background-color: #d4ebff;}#sk-container-id-1 div.sk-label input.sk-toggleable__control:checked~label.sk-toggleable__label {background-color: #d4ebff;}#sk-container-id-1 input.sk-hidden--visually {border: 0;clip: rect(1px 1px 1px 1px);clip: rect(1px, 1px, 1px, 1px);height: 1px;margin: -1px;overflow: hidden;padding: 0;position: absolute;width: 1px;}#sk-container-id-1 div.sk-estimator {font-family: monospace;background-color: #f0f8ff;border: 1px dotted black;border-radius: 0.25em;box-sizing: border-box;margin-bottom: 0.5em;}#sk-container-id-1 div.sk-estimator:hover {background-color: #d4ebff;}#sk-container-id-1 div.sk-parallel-item::after {content: \"\";width: 100%;border-bottom: 1px solid gray;flex-grow: 1;}#sk-container-id-1 div.sk-label:hover label.sk-toggleable__label {background-color: #d4ebff;}#sk-container-id-1 div.sk-serial::before {content: \"\";position: absolute;border-left: 1px solid gray;box-sizing: border-box;top: 0;bottom: 0;left: 50%;z-index: 0;}#sk-container-id-1 div.sk-serial {display: flex;flex-direction: column;align-items: center;background-color: white;padding-right: 0.2em;padding-left: 0.2em;position: relative;}#sk-container-id-1 div.sk-item {position: relative;z-index: 1;}#sk-container-id-1 div.sk-parallel {display: flex;align-items: stretch;justify-content: center;background-color: white;position: relative;}#sk-container-id-1 div.sk-item::before, #sk-container-id-1 div.sk-parallel-item::before {content: \"\";position: absolute;border-left: 1px solid gray;box-sizing: border-box;top: 0;bottom: 0;left: 50%;z-index: -1;}#sk-container-id-1 div.sk-parallel-item {display: flex;flex-direction: column;z-index: 1;position: relative;background-color: white;}#sk-container-id-1 div.sk-parallel-item:first-child::after {align-self: flex-end;width: 50%;}#sk-container-id-1 div.sk-parallel-item:last-child::after {align-self: flex-start;width: 50%;}#sk-container-id-1 div.sk-parallel-item:only-child::after {width: 0;}#sk-container-id-1 div.sk-dashed-wrapped {border: 1px dashed gray;margin: 0 0.4em 0.5em 0.4em;box-sizing: border-box;padding-bottom: 0.4em;background-color: white;}#sk-container-id-1 div.sk-label label {font-family: monospace;font-weight: bold;display: inline-block;line-height: 1.2em;}#sk-container-id-1 div.sk-label-container {text-align: center;}#sk-container-id-1 div.sk-container {/* jupyter's `normalize.less` sets `[hidden] { display: none; }` but bootstrap.min.css set `[hidden] { display: none !important; }` so we also need the `!important` here to be able to override the default hidden behavior on the sphinx rendered scikit-learn.org. See: https://github.com/scikit-learn/scikit-learn/issues/21755 */display: inline-block !important;position: relative;}#sk-container-id-1 div.sk-text-repr-fallback {display: none;}</style><div id=\"sk-container-id-1\" class=\"sk-top-container\"><div class=\"sk-text-repr-fallback\"><pre>LogisticRegression()</pre><b>In a Jupyter environment, please rerun this cell to show the HTML representation or trust the notebook. <br />On GitHub, the HTML representation is unable to render, please try loading this page with nbviewer.org.</b></div><div class=\"sk-container\" hidden><div class=\"sk-item\"><div class=\"sk-estimator sk-toggleable\"><input class=\"sk-toggleable__control sk-hidden--visually\" id=\"sk-estimator-id-1\" type=\"checkbox\" checked><label for=\"sk-estimator-id-1\" class=\"sk-toggleable__label sk-toggleable__label-arrow\">LogisticRegression</label><div class=\"sk-toggleable__content\"><pre>LogisticRegression()</pre></div></div></div></div></div>"
      ],
      "text/plain": [
       "LogisticRegression()"
      ]
     },
     "execution_count": 33,
     "metadata": {},
     "output_type": "execute_result"
    }
   ],
   "source": [
    "lr.fit(x_train, y_train)"
   ]
  },
  {
   "cell_type": "code",
   "execution_count": 34,
   "id": "cd40b07f",
   "metadata": {},
   "outputs": [],
   "source": [
    "y_pred = lr.predict(x_test)"
   ]
  },
  {
   "cell_type": "code",
   "execution_count": 35,
   "id": "4eaf5d65",
   "metadata": {},
   "outputs": [
    {
     "data": {
      "text/plain": [
       "0.9736842105263158"
      ]
     },
     "execution_count": 35,
     "metadata": {},
     "output_type": "execute_result"
    }
   ],
   "source": [
    "accuracy_score(y_test, y_pred)"
   ]
  },
  {
   "cell_type": "code",
   "execution_count": 110,
   "id": "99c181c4",
   "metadata": {},
   "outputs": [
    {
     "name": "stdout",
     "output_type": "stream",
     "text": [
      "Confusion Matrix:\n",
      " [[70  1]\n",
      " [ 2 41]]\n",
      "Classification Report:\n",
      "               precision    recall  f1-score   support\n",
      "\n",
      "           0       0.97      0.99      0.98        71\n",
      "           1       0.98      0.95      0.96        43\n",
      "\n",
      "    accuracy                           0.97       114\n",
      "   macro avg       0.97      0.97      0.97       114\n",
      "weighted avg       0.97      0.97      0.97       114\n",
      "\n"
     ]
    }
   ],
   "source": [
    "from sklearn.metrics import classification_report, confusion_matrix\n",
    "\n",
    "# Model evaluation\n",
    "conf_matrix = confusion_matrix(y_test, y_pred)\n",
    "class_report = classification_report(y_test, y_pred)\n",
    "\n",
    "print(\"Confusion Matrix:\\n\", conf_matrix)\n",
    "print(\"Classification Report:\\n\", class_report)\n"
   ]
  },
  {
   "cell_type": "markdown",
   "id": "2421dba7",
   "metadata": {},
   "source": [
    "# Prediction System"
   ]
  },
  {
   "cell_type": "code",
   "execution_count": 37,
   "id": "5902a995",
   "metadata": {},
   "outputs": [
    {
     "name": "stdout",
     "output_type": "stream",
     "text": [
      "Cancrous\n"
     ]
    }
   ],
   "source": [
    "input_text = (2.13018192e-01, -5.90201273e-01,  2.78151024e-01,\n",
    "        7.93179680e-02,  1.47083851e+00,  1.16919292e+00,  1.00908719e+00,\n",
    "        1.07711474e+00,  1.26019637e+00,  6.83612567e-01,  8.69160837e-02,\n",
    "       -4.68975381e-01,  6.31952291e-02,  2.34972050e-02, -1.33445566e-03,\n",
    "       -2.93138093e-04, -8.45111045e-02,  1.29797207e-01, -5.57825655e-01,\n",
    "        2.28242912e-02,  5.35769651e-01,  3.02768997e-01,  5.99822963e-01,\n",
    "        3.84469578e-01,  2.44036784e+00,  1.26100069e+00,  9.36116234e-01,\n",
    "        1.35650577e+00,  1.07793067e+00,  1.26945274e+00)\n",
    "np_df = np.asarray(input_text)\n",
    "prediction = lr.predict(np_df.reshape(1,-1))\n",
    "\n",
    "if prediction[0] == 1:\n",
    "    print(\"Cancerous\")\n",
    "    \n",
    "else:\n",
    "    print(\"Non Cancerous\")"
   ]
  },
  {
   "cell_type": "code",
   "execution_count": 38,
   "id": "f0e8688b",
   "metadata": {},
   "outputs": [
    {
     "data": {
      "text/plain": [
       "array([-0.4976419 ,  0.61365274, -0.49813131, -0.53102815, -0.57694824,\n",
       "       -0.17494424, -0.36215622, -0.284859  ,  0.43345165,  0.17818232,\n",
       "       -0.36844966,  0.55310406, -0.31671104, -0.40524636,  0.04025752,\n",
       "       -0.03795529, -0.18043065,  0.16478901, -0.12170969,  0.23079329,\n",
       "       -0.50044002,  0.81940367, -0.46922838, -0.53308833, -0.04910117,\n",
       "       -0.04160193, -0.14913653,  0.09681787,  0.10617647,  0.49035329])"
      ]
     },
     "execution_count": 38,
     "metadata": {},
     "output_type": "execute_result"
    }
   ],
   "source": [
    "x_train[10]"
   ]
  },
  {
   "cell_type": "code",
   "execution_count": 55,
   "id": "bc1a58bf",
   "metadata": {
    "scrolled": false
   },
   "outputs": [
    {
     "data": {
      "text/plain": [
       "array([-1.26011506, -0.16310297, -1.25095229, -1.0302484 , -0.45183767,\n",
       "       -0.78300175, -0.7485231 , -0.87168083,  1.55520219,  0.19067922,\n",
       "       -0.08632089,  0.27222162, -0.13980812, -0.36752201,  0.16765341,\n",
       "       -0.30912281, -0.17700495, -0.31984743, -0.1192596 ,  0.0332407 ,\n",
       "       -1.0601597 ,  0.01391574, -1.08654253, -0.8672748 , -0.35269495,\n",
       "       -0.63639469, -0.70228078, -0.74450654,  0.42639563,  0.07696503])"
      ]
     },
     "execution_count": 55,
     "metadata": {},
     "output_type": "execute_result"
    }
   ],
   "source": [
    "x_train[13]"
   ]
  },
  {
   "cell_type": "code",
   "execution_count": 40,
   "id": "444d2c41",
   "metadata": {},
   "outputs": [],
   "source": [
    "# Dummy Data"
   ]
  },
  {
   "cell_type": "code",
   "execution_count": 41,
   "id": "622451b1",
   "metadata": {},
   "outputs": [
    {
     "data": {
      "text/plain": [
       "numpy.ndarray"
      ]
     },
     "execution_count": 41,
     "metadata": {},
     "output_type": "execute_result"
    }
   ],
   "source": [
    "import numpy as np\n",
    "a =np.array([18.02,\t15.10,\t115.0,\t1022.0,\t0.1223,\t0.2546,\t0.2900,\t0.1382,\t0.2190,\t0.0566,\t1.095,\t0.940,\t8.000,\t100.0,\t0.0065,\t0.0312,\t0.0364,\t0.0121,\t0.0213,\t0.0039,\t24.10,\t19.20,\t160.0,\t1783.0,\t0.1740,\t0.3774,\t0.4390,\t0.2102,\t0.3190,\t0.0865])\n",
    "type(a) \n",
    "# Cancrous"
   ]
  },
  {
   "cell_type": "code",
   "execution_count": 42,
   "id": "31e65d18",
   "metadata": {},
   "outputs": [
    {
     "ename": "SyntaxError",
     "evalue": "invalid syntax (2238052698.py, line 1)",
     "output_type": "error",
     "traceback": [
      "\u001b[1;36m  Cell \u001b[1;32mIn[42], line 1\u001b[1;36m\u001b[0m\n\u001b[1;33m    M\t18.02\t15.10\t115.0\t1022.0\t0.1223\t0.2546\t0.2900\t0.1382\t0.2190\t0.0566\t1.095\t0.940\t8.000\t100.0\t0.0065\t0.0312\t0.0364\t0.0121\t0.0213\t0.0039\t24.10\t19.20\t160.0\t1783.0\t0.1740\t0.3774\t0.4390\t0.2102\t0.3190\t0.0865\u001b[0m\n\u001b[1;37m     \t^\u001b[0m\n\u001b[1;31mSyntaxError\u001b[0m\u001b[1;31m:\u001b[0m invalid syntax\n"
     ]
    }
   ],
   "source": [
    "M\t18.02\t15.10\t115.0\t1022.0\t0.1223\t0.2546\t0.2900\t0.1382\t0.2190\t0.0566\t1.095\t0.940\t8.000\t100.0\t0.0065\t0.0312\t0.0364\t0.0121\t0.0213\t0.0039\t24.10\t19.20\t160.0\t1783.0\t0.1740\t0.3774\t0.4390\t0.2102\t0.3190\t0.0865\n",
    "B\t13.05\t14.65\t82.6\t530.0\t0.0910\t0.0852\t0.0710\t0.0375\t0.1780\t0.0524\t0.578\t0.735\t4.520\t56.2\t0.0049\t0.0194\t0.0241\t0.0087\t0.0201\t0.0021\t16.10\t17.30\t104.5\t900.5\t0.1456\t0.1975\t0.1850\t0.0827\t0.2156\t0.0623\n",
    "M\t19.30\t20.00\t130.0\t1327.5\t0.1201\t0.2526\t0.2750\t0.1300\t0.2000\t0.0598\t1.020\t0.900\t8.200\t120.0\t0.0060\t0.0289\t0.0382\t0.0152\t0.0250\t0.0040\t25.00\t18.90\t155.0\t2000.0\t0.1830\t0.3665\t0.4150\t0.2103\t0.3322\t0.0870\n",
    "B\t12.30\t12.75\t78.3\t450.0\t0.0894\t0.0725\t0.0654\t0.0330\t0.1500\t0.0467\t0.510\t0.670\t4.000\t40.0\t0.0038\t0.0155\t0.0201\t0.0078\t0.0152\t0.0020\t15.30\t15.50\t98.5\t765.3\t0.1302\t0.1801\t0.1608\t0.0800\t0.1952\t0.0590\n",
    "M\t22.50\t21.10\t143.7\t1820.0\t0.1405\t0.3154\t0.3700\t0.1687\t0.2302\t0.0667\t1.200\t1.050\t9.500\t175.0\t0.0081\t0.0321\t0.0407\t0.0135\t0.0272\t0.0043\t28.00\t21.50\t180.0\t2500.0\t0.1990\t0.4321\t0.5200\t0.2708\t0.4005\t0.0980\n"
   ]
  },
  {
   "cell_type": "code",
   "execution_count": 43,
   "id": "f94fb5ab",
   "metadata": {},
   "outputs": [
    {
     "name": "stdout",
     "output_type": "stream",
     "text": [
      "[1.510e+01 1.150e+02 1.022e+03 1.223e-01 2.546e-01 2.900e-01 1.382e-01\n",
      " 2.190e-01 5.660e-02 1.095e+00 9.400e-01 8.000e+00 1.000e+02 6.500e-03\n",
      " 3.120e-02 3.640e-02 1.210e-02 2.130e-02 3.900e-03 2.410e+01 1.920e+01\n",
      " 1.600e+02 1.783e+03 1.740e-01 3.774e-01 4.390e-01 2.102e-01 3.190e-01\n",
      " 8.650e-02]\n",
      "<class 'numpy.ndarray'>\n",
      "[1.465e+01 8.260e+01 5.300e+02 9.100e-02 8.520e-02 7.100e-02 3.750e-02\n",
      " 1.780e-01 5.240e-02 5.780e-01 7.350e-01 4.520e+00 5.620e+01 4.900e-03\n",
      " 1.940e-02 2.410e-02 8.700e-03 2.010e-02 2.100e-03 1.610e+01 1.730e+01\n",
      " 1.045e+02 9.005e+02 1.456e-01 1.975e-01 1.850e-01 8.270e-02 2.156e-01\n",
      " 6.230e-02]\n",
      "<class 'numpy.ndarray'>\n",
      "[2.0000e+01 1.3000e+02 1.3275e+03 1.2010e-01 2.5260e-01 2.7500e-01\n",
      " 1.3000e-01 2.0000e-01 5.9800e-02 1.0200e+00 9.0000e-01 8.2000e+00\n",
      " 1.2000e+02 6.0000e-03 2.8900e-02 3.8200e-02 1.5200e-02 2.5000e-02\n",
      " 4.0000e-03 2.5000e+01 1.8900e+01 1.5500e+02 2.0000e+03 1.8300e-01\n",
      " 3.6650e-01 4.1500e-01 2.1030e-01 3.3220e-01 8.7000e-02]\n",
      "<class 'numpy.ndarray'>\n",
      "[1.275e+01 7.830e+01 4.500e+02 8.940e-02 7.250e-02 6.540e-02 3.300e-02\n",
      " 1.500e-01 4.670e-02 5.100e-01 6.700e-01 4.000e+00 4.000e+01 3.800e-03\n",
      " 1.550e-02 2.010e-02 7.800e-03 1.520e-02 2.000e-03 1.530e+01 1.550e+01\n",
      " 9.850e+01 7.653e+02 1.302e-01 1.801e-01 1.608e-01 8.000e-02 1.952e-01\n",
      " 5.900e-02]\n",
      "<class 'numpy.ndarray'>\n",
      "[2.110e+01 1.437e+02 1.820e+03 1.405e-01 3.154e-01 3.700e-01 1.687e-01\n",
      " 2.302e-01 6.670e-02 1.200e+00 1.050e+00 9.500e+00 1.750e+02 8.100e-03\n",
      " 3.210e-02 4.070e-02 1.350e-02 2.720e-02 4.300e-03 2.800e+01 2.150e+01\n",
      " 1.800e+02 2.500e+03 1.990e-01 4.321e-01 5.200e-01 2.708e-01 4.005e-01\n",
      " 9.800e-02]\n",
      "<class 'numpy.ndarray'>\n"
     ]
    }
   ],
   "source": [
    "import numpy as np\n",
    "\n",
    "# Provided data\n",
    "data = [\n",
    "    ['M', 18.02, 15.10, 115.0, 1022.0, 0.1223, 0.2546, 0.2900, 0.1382, 0.2190, 0.0566, 1.095, 0.940, 8.000, 100.0, 0.0065, 0.0312, 0.0364, 0.0121, 0.0213, 0.0039, 24.10, 19.20, 160.0, 1783.0, 0.1740, 0.3774, 0.4390, 0.2102, 0.3190, 0.0865],\n",
    "    ['B', 13.05, 14.65, 82.6, 530.0, 0.0910, 0.0852, 0.0710, 0.0375, 0.1780, 0.0524, 0.578, 0.735, 4.520, 56.2, 0.0049, 0.0194, 0.0241, 0.0087, 0.0201, 0.0021, 16.10, 17.30, 104.5, 900.5, 0.1456, 0.1975, 0.1850, 0.0827, 0.2156, 0.0623],\n",
    "    ['M', 19.30, 20.00, 130.0, 1327.5, 0.1201, 0.2526, 0.2750, 0.1300, 0.2000, 0.0598, 1.020, 0.900, 8.200, 120.0, 0.0060, 0.0289, 0.0382, 0.0152, 0.0250, 0.0040, 25.00, 18.90, 155.0, 2000.0, 0.1830, 0.3665, 0.4150, 0.2103, 0.3322, 0.0870],\n",
    "    ['B', 12.30, 12.75, 78.3, 450.0, 0.0894, 0.0725, 0.0654, 0.0330, 0.1500, 0.0467, 0.510, 0.670, 4.000, 40.0, 0.0038, 0.0155, 0.0201, 0.0078, 0.0152, 0.0020, 15.30, 15.50, 98.5, 765.3, 0.1302, 0.1801, 0.1608, 0.0800, 0.1952, 0.0590],\n",
    "    ['M', 22.50, 21.10, 143.7, 1820.0, 0.1405, 0.3154, 0.3700, 0.1687, 0.2302, 0.0667, 1.200, 1.050, 9.500, 175.0, 0.0081, 0.0321, 0.0407, 0.0135, 0.0272, 0.0043, 28.00, 21.50, 180.0, 2500.0, 0.1990, 0.4321, 0.5200, 0.2708, 0.4005, 0.0980]\n",
    "]\n",
    "\n",
    "# Remove the second column (label) and convert remaining data to numpy arrays\n",
    "arrays = [np.array(row[2:], dtype=float) for row in data]\n",
    "\n",
    "for array in arrays:\n",
    "    print(array)\n",
    "    print(type(array))\n"
   ]
  },
  {
   "cell_type": "code",
   "execution_count": 54,
   "id": "e6fa2026",
   "metadata": {},
   "outputs": [
    {
     "name": "stdout",
     "output_type": "stream",
     "text": [
      "(18.02, 15.1, 115.0, 1022.0, 0.1223, 0.2546, 0.29, 0.1382, 0.219, 0.0566, 1.095, 0.94, 8.0, 100.0, 0.0065, 0.0312, 0.0364, 0.0121, 0.0213, 0.0039, 24.1, 19.2, 160.0, 1783.0, 0.174, 0.3774, 0.439, 0.2102, 0.319, 0.0865)\n",
      "(13.05, 14.65, 82.6, 530.0, 0.091, 0.0852, 0.071, 0.0375, 0.178, 0.0524, 0.578, 0.735, 4.52, 56.2, 0.0049, 0.0194, 0.0241, 0.0087, 0.0201, 0.0021, 16.1, 17.3, 104.5, 900.5, 0.1456, 0.1975, 0.185, 0.0827, 0.2156, 0.0623)\n",
      "(19.3, 20.0, 130.0, 1327.5, 0.1201, 0.2526, 0.275, 0.13, 0.2, 0.0598, 1.02, 0.9, 8.2, 120.0, 0.006, 0.0289, 0.0382, 0.0152, 0.025, 0.004, 25.0, 18.9, 155.0, 2000.0, 0.183, 0.3665, 0.415, 0.2103, 0.3322, 0.087)\n",
      "(12.3, 12.75, 78.3, 450.0, 0.0894, 0.0725, 0.0654, 0.033, 0.15, 0.0467, 0.51, 0.67, 4.0, 40.0, 0.0038, 0.0155, 0.0201, 0.0078, 0.0152, 0.002, 15.3, 15.5, 98.5, 765.3, 0.1302, 0.1801, 0.1608, 0.08, 0.1952, 0.059)\n",
      "(22.5, 21.1, 143.7, 1820.0, 0.1405, 0.3154, 0.37, 0.1687, 0.2302, 0.0667, 1.2, 1.05, 9.5, 175.0, 0.0081, 0.0321, 0.0407, 0.0135, 0.0272, 0.0043, 28.0, 21.5, 180.0, 2500.0, 0.199, 0.4321, 0.52, 0.2708, 0.4005, 0.098)\n"
     ]
    }
   ],
   "source": [
    "import numpy as np\n",
    "\n",
    "# Provided data\n",
    "data = [\n",
    "    ['M', 18.02, 15.10, 115.0, 1022.0, 0.1223, 0.2546, 0.2900, 0.1382, 0.2190, 0.0566, 1.095, 0.940, 8.000, 100.0, 0.0065, 0.0312, 0.0364, 0.0121, 0.0213, 0.0039, 24.10, 19.20, 160.0, 1783.0, 0.1740, 0.3774, 0.4390, 0.2102, 0.3190, 0.0865],\n",
    "    ['B', 13.05, 14.65, 82.6, 530.0, 0.0910, 0.0852, 0.0710, 0.0375, 0.1780, 0.0524, 0.578, 0.735, 4.520, 56.2, 0.0049, 0.0194, 0.0241, 0.0087, 0.0201, 0.0021, 16.10, 17.30, 104.5, 900.5, 0.1456, 0.1975, 0.1850, 0.0827, 0.2156, 0.0623],\n",
    "    ['M', 19.30, 20.00, 130.0, 1327.5, 0.1201, 0.2526, 0.2750, 0.1300, 0.2000, 0.0598, 1.020, 0.900, 8.200, 120.0, 0.0060, 0.0289, 0.0382, 0.0152, 0.0250, 0.0040, 25.00, 18.90, 155.0, 2000.0, 0.1830, 0.3665, 0.4150, 0.2103, 0.3322, 0.0870],\n",
    "    ['B', 12.30, 12.75, 78.3, 450.0, 0.0894, 0.0725, 0.0654, 0.0330, 0.1500, 0.0467, 0.510, 0.670, 4.000, 40.0, 0.0038, 0.0155, 0.0201, 0.0078, 0.0152, 0.0020, 15.30, 15.50, 98.5, 765.3, 0.1302, 0.1801, 0.1608, 0.0800, 0.1952, 0.0590],\n",
    "    ['M', 22.50, 21.10, 143.7, 1820.0, 0.1405, 0.3154, 0.3700, 0.1687, 0.2302, 0.0667, 1.200, 1.050, 9.500, 175.0, 0.0081, 0.0321, 0.0407, 0.0135, 0.0272, 0.0043, 28.00, 21.50, 180.0, 2500.0, 0.1990, 0.4321, 0.5200, 0.2708, 0.4005, 0.0980],\n",
    "    ['B', 12.06,\t18.90,\t76.66,\t445.3,\t0.08386,\t0.05794,\t0.00751,\t0.008488,\t0.1555,\t...\t13.64,\t27.06,\t86.54,\t562.6,\t0.1289,\t0.1352,\t0.04506,\t0.05093,\t0.2880,\t0.08083]\n",
    "]\n",
    "\n",
    "# Remove the second column (label) and convert remaining data to numpy arrays\n",
    "arrays = [np.array(row[1:], dtype=float) for row in data]\n",
    "\n",
    "# Print arrays with each value followed by a comma\n",
    "for array in arrays:\n",
    "    print(\"(\"+', '.join(f\"{x}\" for x in array) + \")\")\n"
   ]
  },
  {
   "cell_type": "code",
   "execution_count": null,
   "id": "d4d04850",
   "metadata": {},
   "outputs": [],
   "source": []
  },
  {
   "cell_type": "code",
   "execution_count": null,
   "id": "e8cd4295",
   "metadata": {},
   "outputs": [],
   "source": []
  },
  {
   "cell_type": "markdown",
   "id": "dac016c6",
   "metadata": {},
   "source": [
    "# Export"
   ]
  },
  {
   "cell_type": "code",
   "execution_count": 44,
   "id": "87dc3304",
   "metadata": {},
   "outputs": [],
   "source": [
    "import pickle\n",
    "pickle.dump(lr, open('breast_cancer_model.pkl', 'wb'))"
   ]
  },
  {
   "cell_type": "code",
   "execution_count": null,
   "id": "ff8c537d",
   "metadata": {},
   "outputs": [],
   "source": []
  },
  {
   "cell_type": "code",
   "execution_count": 111,
   "id": "42e6716f",
   "metadata": {},
   "outputs": [],
   "source": [
    "# Pipeline Code\n",
    "\n",
    "from sklearn.pipeline import Pipeline\n",
    "\n",
    "# Load the dataset\n",
    "breast = pd.read_csv(\"breast_data.csv\")\n",
    "\n",
    "# Drop unnecessary columns\n",
    "breast.drop(columns=['Unnamed: 32', 'id'], inplace=True)\n",
    "\n",
    "# Remove null\n",
    "breast.dropna(inplace=True)\n",
    "\n",
    "#  Remove Duplicated\n",
    "breast.drop_duplicates()\n",
    "\n",
    "# Encode the target column\n",
    "le = LabelEncoder()\n",
    "breast['diagnosis'] = le.fit_transform(breast['diagnosis'])\n",
    "\n",
    "# Split the data into features and target\n",
    "X = breast.drop(columns='diagnosis')\n",
    "y = breast['diagnosis']\n",
    "\n",
    "# Split the data into training and testing sets\n",
    "X_train, X_test, y_train, y_test = train_test_split(X, y, test_size=0.2, random_state=42)\n",
    "\n",
    "# Create a pipeline with scaling and logistic regression\n",
    "pipeline = Pipeline([\n",
    "    ('scaler', StandardScaler()),               # Step 1: Standardize the data\n",
    "    ('logistic_regression', LogisticRegression())  # Step 2: Logistic Regression model\n",
    "])\n",
    "\n",
    "# Fit the model\n",
    "pipeline.fit(X_train, y_train)\n",
    "\n",
    "# Make predictions\n",
    "y_pred = pipeline.predict(X_test)\n",
    "\n"
   ]
  },
  {
   "cell_type": "code",
   "execution_count": 112,
   "id": "7f85e928",
   "metadata": {},
   "outputs": [
    {
     "name": "stdout",
     "output_type": "stream",
     "text": [
      "Accuracy: 0.9737\n",
      "Confusion Matrix:\n",
      " [[70  1]\n",
      " [ 2 41]]\n",
      "Classification Report:\n",
      "               precision    recall  f1-score   support\n",
      "\n",
      "           0       0.97      0.99      0.98        71\n",
      "           1       0.98      0.95      0.96        43\n",
      "\n",
      "    accuracy                           0.97       114\n",
      "   macro avg       0.97      0.97      0.97       114\n",
      "weighted avg       0.97      0.97      0.97       114\n",
      "\n"
     ]
    }
   ],
   "source": [
    "# Evaluate the model\n",
    "accuracy = accuracy_score(y_test, y_pred)\n",
    "conf_matrix = confusion_matrix(y_test, y_pred)\n",
    "class_report = classification_report(y_test, y_pred)\n",
    "\n",
    "# Print results\n",
    "print(f\"Accuracy: {accuracy:.4f}\")\n",
    "print(\"Confusion Matrix:\\n\", conf_matrix)\n",
    "print(\"Classification Report:\\n\", class_report)\n",
    "\n"
   ]
  },
  {
   "cell_type": "code",
   "execution_count": 151,
   "id": "054f023b",
   "metadata": {},
   "outputs": [
    {
     "name": "stdout",
     "output_type": "stream",
     "text": [
      "Cancerous\n"
     ]
    },
    {
     "name": "stderr",
     "output_type": "stream",
     "text": [
      "C:\\Users\\PC\\anaconda3\\lib\\site-packages\\sklearn\\base.py:420: UserWarning: X does not have valid feature names, but StandardScaler was fitted with feature names\n",
      "  warnings.warn(\n"
     ]
    }
   ],
   "source": [
    "# Prediction System\n",
    "input_data = (2.13018192e-01, -5.90201273e-01,  2.78151024e-01,\n",
    "              7.93179680e-02,  1.47083851e+00,  1.16919292e+00,  1.00908719e+00,\n",
    "              1.07711474e+00,  1.26019637e+00,  6.83612567e-01,  8.69160837e-02,\n",
    "              -4.68975381e-01,  6.31952291e-02,  2.34972050e-02, -1.33445566e-03,\n",
    "              -2.93138093e-04, -8.45111045e-02,  1.29797207e-01, -5.57825655e-01,\n",
    "              2.28242912e-02,  5.35769651e-01,  3.02768997e-01,  5.99822963e-01,\n",
    "              3.84469578e-01,  2.44036784e+00,  1.26100069e+00,  9.36116234e-01,\n",
    "              1.35650577e+00,  1.07793067e+00,  1.26945274e+00)\n",
    "\n",
    "# Make a prediction with the trained pipeline\n",
    "prediction = pipeline.predict(np.array(input_data).reshape(1, -1))\n",
    "\n",
    "if prediction[0] == 1:\n",
    "    print(\"Cancerous\")\n",
    "else:\n",
    "    print(\"Non Cancerous\")\n"
   ]
  },
  {
   "cell_type": "code",
   "execution_count": null,
   "id": "84f0f326",
   "metadata": {},
   "outputs": [],
   "source": []
  },
  {
   "cell_type": "code",
   "execution_count": null,
   "id": "3292f2ec",
   "metadata": {},
   "outputs": [],
   "source": []
  },
  {
   "cell_type": "code",
   "execution_count": null,
   "id": "3a88e4ca",
   "metadata": {},
   "outputs": [],
   "source": []
  },
  {
   "cell_type": "code",
   "execution_count": 114,
   "id": "6ed115cc",
   "metadata": {},
   "outputs": [],
   "source": [
    "import pickle\n",
    "\n",
    "# Save the pipeline to a file\n",
    "with open('breast_cancer_pipeline.pkl', 'wb') as file:\n",
    "    pickle.dump(pipeline, file)\n"
   ]
  }
 ],
 "metadata": {
  "kernelspec": {
   "display_name": "Python 3 (ipykernel)",
   "language": "python",
   "name": "python3"
  },
  "language_info": {
   "codemirror_mode": {
    "name": "ipython",
    "version": 3
   },
   "file_extension": ".py",
   "mimetype": "text/x-python",
   "name": "python",
   "nbconvert_exporter": "python",
   "pygments_lexer": "ipython3",
   "version": "3.10.9"
  }
 },
 "nbformat": 4,
 "nbformat_minor": 5
}
